{
 "cells": [
  {
   "cell_type": "markdown",
   "metadata": {
    "application/vnd.databricks.v1+cell": {
     "cellMetadata": {},
     "inputWidgets": {},
     "nuid": "ad66a7e4-ec3b-4cde-b27f-df03387c1136",
     "showTitle": false,
     "title": ""
    }
   },
   "source": [
    "As estatísticas SMART não tem a definição facilmente localizadas e nem universalmente aceitas, podendo variar de fabricante para fabricante. A Backblaze fornece os seguinte significados para as presentes no dataset:\n",
    "\n",
    "    smart_1:Read Error Rate\n",
    "    smart_2:Throughput Performance\n",
    "    smart_3:Spin-Up Time\n",
    "    smart_4:Start/Stop Count\n",
    "    smart_5:Reallocated Sectors Count\n",
    "    smart_7:Seek Error Rate\n",
    "    smart_8:Seek Time Performance\n",
    "    smart_9:Power-On Hours\n",
    "    smart_10:Spin Retry Count\n",
    "    smart_11:Recalibration Retries\n",
    "    smart_12:Power Cycle Count\n",
    "    smart_13:Soft Read Error Rate\n",
    "    smart_15:Não Fornecido\n",
    "    smart_183:Runtime Bad Block\n",
    "    smart_184:End-to-End error\n",
    "    smart_187:Reported Uncorrectable Errors\n",
    "    smart_188:Command Timeout\n",
    "    smart_189:High Fly Writes\n",
    "    smart_190:Temperature Difference\n",
    "    smart_191:G-sense Error Rate\n",
    "    smart_192:Power-off Retract Count\n",
    "    smart_193:Load Cycle Count\n",
    "    smart_194:Temperature\n",
    "    smart_195:Hardware ECC Recovered\n",
    "    smart_196:Reallocation Event Count\n",
    "    smart_197:Current Pending Sector Count\n",
    "    smart_198:(Offline) Uncorrectable Sector Count\n",
    "    smart_199:UltraDMA CRC Error Count\n",
    "    smart_200:Multi-Zone Error Rate\n",
    "    smart_201:Soft Read Error Rate\n",
    "    smart_223:Load/Unload Retry Count\n",
    "    smart_225:Load/Unload Cycle Count\n",
    "    smart_240:Head Flying Hours\n",
    "    smart_241:Total LBAs Written\n",
    "    smart_242:Total LBAs Read\n",
    "    smart_250:Read Error Retry Rate\n",
    "    smart_251:Minimum Spares Remaining\n",
    "    smart_252:Newly Added Bad Flash Block\n",
    "    smart_254:Free Fall Protection\n",
    "    smart_255:Não Fornecido\n",
    "\n"
   ]
  }
 ],
 "metadata": {
  "application/vnd.databricks.v1+notebook": {
   "dashboards": [],
   "environmentMetadata": null,
   "language": "python",
   "notebookMetadata": {
    "pythonIndentUnit": 4
   },
   "notebookName": "CATÁLOGO",
   "widgets": {}
  }
 },
 "nbformat": 4,
 "nbformat_minor": 0
}
