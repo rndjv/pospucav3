{
 "cells": [
  {
   "cell_type": "markdown",
   "metadata": {
    "application/vnd.databricks.v1+cell": {
     "cellMetadata": {},
     "inputWidgets": {},
     "nuid": "8664e4c0-b156-4fea-b4cb-e6a99a9d95cd",
     "showTitle": false,
     "title": ""
    }
   },
   "source": [
    "Definição do Problema\n",
    "\n",
    "O dataset utilizado será o da empresa Backblaze, que oferece serviços de armazenamento na nuvem com mais de 3 bilhões de gigabytes de armazenamento. Anualmente são publicadas estatísticas e insights baseadas nos discos rígidos do data center da companhia. Todo disco possui um sistema de monitoramento denominado SMART(Self-Monitoring, Analysis, and Reporting Technology), que detecta e relata vários indicadores da unidade, visando a antecipação de falhas.\n",
    "\n",
    "Todos os dias, no data center Backblaze, um instantâneo de cada disco rígido operacional é retirado. Este instantâneo inclui informações básicas da unidade junto com as S.M.A.R.T. estatísticas relatadas por essa unidade. O instantâneo diário de uma unidade é um registro ou linha de dados. Todos os instantâneos de unidades de um determinado dia são coletados em um arquivo que consiste em uma linha para cada disco rígido ativo.\n",
    "As colunas são as seguintes:\n",
    "Data – A data do arquivo no formato aaaa-mm-dd.\n",
    "Número de série – O número de série da unidade atribuído pelo fabricante.\n",
    "Modelo – O número do modelo da unidade atribuído pelo fabricante.\n",
    "Capacidade – A capacidade da unidade em bytes.\n",
    "Falha – Contém um “0” se a unidade estiver OK. Contém “1” se este for o último dia em que a unidade esteve operacional antes de falhar.\n",
    "Estatísticas SMART – 80 colunas de dados, que são os valores brutos e normalizados para 40 estatísticas SMART diferentes, conforme relatado por uma determinada unidade. Cada valor é o número relatado pela unidade.\n",
    "\n",
    "Com o sprint, esse dataset utilizada em outra sprint retornou a mente devido às dificuldades encontradas anteriormente. As ferramentas proporcionariam meios de se trabalhar com mais dados e se chegar a conclusões baseadas em mais informações, visto falhas nesses equipamentos serem de baixa ocorrência. Assim, as perguntas realizadas antes, agora foram mais embasadas pela quantidade de dados possíves no spark\n"
   ]
  }
 ],
 "metadata": {
  "application/vnd.databricks.v1+notebook": {
   "dashboards": [],
   "environmentMetadata": null,
   "language": "python",
   "notebookMetadata": {
    "pythonIndentUnit": 4
   },
   "notebookName": "DEFINIÇÃO DO PROBLEMA AUTOAVALIAÇÃO",
   "widgets": {}
  }
 },
 "nbformat": 4,
 "nbformat_minor": 0
}
