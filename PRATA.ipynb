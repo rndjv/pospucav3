{
 "cells": [
  {
   "cell_type": "code",
   "execution_count": 0,
   "metadata": {
    "application/vnd.databricks.v1+cell": {
     "cellMetadata": {
      "byteLimit": 2048000,
      "rowLimit": 10000
     },
     "inputWidgets": {},
     "nuid": "bd047f15-3611-4473-b0e8-59b238a1f701",
     "showTitle": false,
     "title": ""
    }
   },
   "outputs": [],
   "source": [
    "from pyspark.sql.functions import col, isnan, when, count, sum, min, max"
   ]
  },
  {
   "cell_type": "code",
   "execution_count": 0,
   "metadata": {
    "application/vnd.databricks.v1+cell": {
     "cellMetadata": {
      "byteLimit": 2048000,
      "rowLimit": 10000
     },
     "inputWidgets": {},
     "nuid": "4090efde-3523-4dc4-87cd-02ac0433157b",
     "showTitle": false,
     "title": ""
    }
   },
   "outputs": [
    {
     "output_type": "stream",
     "name": "stdout",
     "output_type": "stream",
     "text": [
      "root\n |-- _c0: string (nullable = true)\n |-- date: string (nullable = true)\n |-- serial_number: string (nullable = true)\n |-- model: string (nullable = true)\n |-- capacity_bytes: string (nullable = true)\n |-- failure: string (nullable = true)\n |-- smart_1_raw: string (nullable = true)\n |-- smart_2_raw: string (nullable = true)\n |-- smart_3_raw: string (nullable = true)\n |-- smart_4_raw: string (nullable = true)\n |-- smart_5_raw: string (nullable = true)\n |-- smart_7_raw: string (nullable = true)\n |-- smart_8_raw: string (nullable = true)\n |-- smart_9_raw: string (nullable = true)\n |-- smart_10_raw: string (nullable = true)\n |-- smart_11_raw: string (nullable = true)\n |-- smart_12_raw: string (nullable = true)\n |-- smart_13_raw: string (nullable = true)\n |-- smart_15_raw: string (nullable = true)\n |-- smart_183_raw: string (nullable = true)\n |-- smart_184_raw: string (nullable = true)\n |-- smart_187_raw: string (nullable = true)\n |-- smart_188_raw: string (nullable = true)\n |-- smart_189_raw: string (nullable = true)\n |-- smart_190_raw: string (nullable = true)\n |-- smart_191_raw: string (nullable = true)\n |-- smart_192_raw: string (nullable = true)\n |-- smart_193_raw: string (nullable = true)\n |-- smart_194_raw: string (nullable = true)\n |-- smart_195_raw: string (nullable = true)\n |-- smart_196_raw: string (nullable = true)\n |-- smart_197_raw: string (nullable = true)\n |-- smart_198_raw: string (nullable = true)\n |-- smart_199_raw: string (nullable = true)\n |-- smart_200_raw: string (nullable = true)\n |-- smart_201_raw: string (nullable = true)\n |-- smart_223_raw: string (nullable = true)\n |-- smart_225_raw: string (nullable = true)\n |-- smart_240_raw: string (nullable = true)\n |-- smart_241_raw: string (nullable = true)\n |-- smart_242_raw: string (nullable = true)\n |-- smart_250_raw: string (nullable = true)\n |-- smart_251_raw: string (nullable = true)\n |-- smart_252_raw: string (nullable = true)\n |-- smart_254_raw: string (nullable = true)\n |-- smart_255_raw: string (nullable = true)\n\n"
     ]
    }
   ],
   "source": [
    "# Nome da database e tabela\n",
    "database_name = \"BRONZE\"\n",
    "table_name = \"2013_hard_drive_csv_parquet\"\n",
    "\n",
    "df = spark.table(f\"{database_name}.{table_name}\")\n",
    "\n",
    "df.printSchema()\n"
   ]
  },
  {
   "cell_type": "code",
   "execution_count": 0,
   "metadata": {
    "application/vnd.databricks.v1+cell": {
     "cellMetadata": {
      "byteLimit": 2048000,
      "rowLimit": 10000
     },
     "inputWidgets": {},
     "nuid": "7b1bad92-c823-4b84-ad99-9531307bb4df",
     "showTitle": false,
     "title": ""
    }
   },
   "outputs": [],
   "source": [
    "# Contar o número de valores nulos por coluna\n",
    "null_counts = df.select([count(when(col(c).isNull(), c)).alias(c) for c in df.columns]).collect()[0]\n",
    "\n",
    "# Obter o número total de linhas do DataFrame\n",
    "total_rows = df.count()\n",
    "\n",
    "# Listar colunas com todos os valores nulos\n",
    "columns_all_nulls = [c for c in df.columns if null_counts[c] == total_rows]\n"
   ]
  },
  {
   "cell_type": "markdown",
   "metadata": {
    "application/vnd.databricks.v1+cell": {
     "cellMetadata": {},
     "inputWidgets": {},
     "nuid": "98b09837-66fa-4cfd-80c1-4bf983bc256a",
     "showTitle": false,
     "title": ""
    }
   },
   "source": [
    "Como se possuem muitas colunas com todos os valores nulos, estas não são da valor para as análises. Assim, serão retiradas da base de dados."
   ]
  },
  {
   "cell_type": "code",
   "execution_count": 0,
   "metadata": {
    "application/vnd.databricks.v1+cell": {
     "cellMetadata": {
      "byteLimit": 2048000,
      "rowLimit": 10000
     },
     "inputWidgets": {},
     "nuid": "893050f8-d749-40c3-9a53-7fb880e08215",
     "showTitle": false,
     "title": ""
    }
   },
   "outputs": [
    {
     "output_type": "display_data",
     "data": {
      "text/html": [
       "<style scoped>\n",
       "  .table-result-container {\n",
       "    max-height: 300px;\n",
       "    overflow: auto;\n",
       "  }\n",
       "  table, th, td {\n",
       "    border: 1px solid black;\n",
       "    border-collapse: collapse;\n",
       "  }\n",
       "  th, td {\n",
       "    padding: 5px;\n",
       "  }\n",
       "  th {\n",
       "    text-align: left;\n",
       "  }\n",
       "</style><div class='table-result-container'><table class='table-result'><thead style='background-color: white'><tr><th>_c0</th><th>date</th><th>serial_number</th><th>model</th><th>capacity_bytes</th><th>failure</th><th>smart_1_raw</th><th>smart_5_raw</th><th>smart_9_raw</th><th>smart_194_raw</th><th>smart_197_raw</th></tr></thead><tbody><tr><td>3842425</td><td>2013-11-15</td><td>PL1311LAG3D8BH</td><td>Hitachi HDS5C4040ALE630</td><td>4000787030016</td><td>0</td><td>0</td><td>0</td><td>5338</td><td>25</td><td>0</td></tr><tr><td>3842426</td><td>2013-11-15</td><td>JK1101B9KNG2BF</td><td>Hitachi HDS722020ALA330</td><td>2000398934016</td><td>0</td><td>0</td><td>1</td><td>22473</td><td>24</td><td>0</td></tr><tr><td>3842427</td><td>2013-11-15</td><td>S1F0BD58</td><td>ST3000DM001</td><td>3000592982016</td><td>0</td><td>202233008</td><td>0</td><td>11738</td><td>25</td><td>0</td></tr><tr><td>3842428</td><td>2013-11-15</td><td>6XW01KG2</td><td>ST31500541AS</td><td>1500301910016</td><td>0</td><td>86786840</td><td>0</td><td>35125</td><td>19</td><td>0</td></tr><tr><td>3842429</td><td>2013-11-15</td><td>PL1311LAG2GRRH</td><td>Hitachi HDS5C4040ALE630</td><td>4000787030016</td><td>0</td><td>0</td><td>0</td><td>4679</td><td>29</td><td>0</td></tr><tr><td>3842430</td><td>2013-11-15</td><td>MJ1311YNG785RA</td><td>Hitachi HDS5C3030ALA630</td><td>3000592982016</td><td>0</td><td>0</td><td>0</td><td>13977</td><td>26</td><td>0</td></tr><tr><td>3842431</td><td>2013-11-15</td><td>S1F10BNL</td><td>ST3000DM001</td><td>3000592982016</td><td>0</td><td>194738440</td><td>0</td><td>7587</td><td>30</td><td>0</td></tr><tr><td>3842432</td><td>2013-11-15</td><td>JK1101B9JPHP8F</td><td>Hitachi HDS722020ALA330</td><td>2000398934016</td><td>0</td><td>0</td><td>0</td><td>23475</td><td>23</td><td>0</td></tr><tr><td>3842433</td><td>2013-11-15</td><td>W1F08CY4</td><td>ST3000DM001</td><td>3000592982016</td><td>0</td><td>45567528</td><td>0</td><td>14568</td><td>25</td><td>0</td></tr><tr><td>3842434</td><td>2013-11-15</td><td>PL1321LAG34GJH</td><td>Hitachi HDS5C4040ALE630</td><td>4000787030016</td><td>0</td><td>0</td><td>0</td><td>6028</td><td>29</td><td>0</td></tr></tbody></table></div>"
      ]
     },
     "metadata": {
      "application/vnd.databricks.v1+output": {
       "addedWidgets": {},
       "aggData": [],
       "aggError": "",
       "aggOverflow": false,
       "aggSchema": [],
       "aggSeriesLimitReached": false,
       "aggType": "",
       "arguments": {},
       "columnCustomDisplayInfos": {},
       "data": [
        [
         "3842425",
         "2013-11-15",
         "PL1311LAG3D8BH",
         "Hitachi HDS5C4040ALE630",
         "4000787030016",
         "0",
         "0",
         "0",
         "5338",
         "25",
         "0"
        ],
        [
         "3842426",
         "2013-11-15",
         "JK1101B9KNG2BF",
         "Hitachi HDS722020ALA330",
         "2000398934016",
         "0",
         "0",
         "1",
         "22473",
         "24",
         "0"
        ],
        [
         "3842427",
         "2013-11-15",
         "S1F0BD58",
         "ST3000DM001",
         "3000592982016",
         "0",
         "202233008",
         "0",
         "11738",
         "25",
         "0"
        ],
        [
         "3842428",
         "2013-11-15",
         "6XW01KG2",
         "ST31500541AS",
         "1500301910016",
         "0",
         "86786840",
         "0",
         "35125",
         "19",
         "0"
        ],
        [
         "3842429",
         "2013-11-15",
         "PL1311LAG2GRRH",
         "Hitachi HDS5C4040ALE630",
         "4000787030016",
         "0",
         "0",
         "0",
         "4679",
         "29",
         "0"
        ],
        [
         "3842430",
         "2013-11-15",
         "MJ1311YNG785RA",
         "Hitachi HDS5C3030ALA630",
         "3000592982016",
         "0",
         "0",
         "0",
         "13977",
         "26",
         "0"
        ],
        [
         "3842431",
         "2013-11-15",
         "S1F10BNL",
         "ST3000DM001",
         "3000592982016",
         "0",
         "194738440",
         "0",
         "7587",
         "30",
         "0"
        ],
        [
         "3842432",
         "2013-11-15",
         "JK1101B9JPHP8F",
         "Hitachi HDS722020ALA330",
         "2000398934016",
         "0",
         "0",
         "0",
         "23475",
         "23",
         "0"
        ],
        [
         "3842433",
         "2013-11-15",
         "W1F08CY4",
         "ST3000DM001",
         "3000592982016",
         "0",
         "45567528",
         "0",
         "14568",
         "25",
         "0"
        ],
        [
         "3842434",
         "2013-11-15",
         "PL1321LAG34GJH",
         "Hitachi HDS5C4040ALE630",
         "4000787030016",
         "0",
         "0",
         "0",
         "6028",
         "29",
         "0"
        ]
       ],
       "datasetInfos": [],
       "dbfsResultPath": null,
       "isJsonSchema": true,
       "metadata": {},
       "overflow": false,
       "plotOptions": {
        "customPlotOptions": {},
        "displayType": "table",
        "pivotAggregation": null,
        "pivotColumns": null,
        "xColumns": null,
        "yColumns": null
       },
       "removedWidgets": [],
       "schema": [
        {
         "metadata": "{}",
         "name": "_c0",
         "type": "\"string\""
        },
        {
         "metadata": "{}",
         "name": "date",
         "type": "\"string\""
        },
        {
         "metadata": "{}",
         "name": "serial_number",
         "type": "\"string\""
        },
        {
         "metadata": "{}",
         "name": "model",
         "type": "\"string\""
        },
        {
         "metadata": "{}",
         "name": "capacity_bytes",
         "type": "\"string\""
        },
        {
         "metadata": "{}",
         "name": "failure",
         "type": "\"string\""
        },
        {
         "metadata": "{}",
         "name": "smart_1_raw",
         "type": "\"string\""
        },
        {
         "metadata": "{}",
         "name": "smart_5_raw",
         "type": "\"string\""
        },
        {
         "metadata": "{}",
         "name": "smart_9_raw",
         "type": "\"string\""
        },
        {
         "metadata": "{}",
         "name": "smart_194_raw",
         "type": "\"string\""
        },
        {
         "metadata": "{}",
         "name": "smart_197_raw",
         "type": "\"string\""
        }
       ],
       "type": "table"
      }
     },
     "output_type": "display_data"
    }
   ],
   "source": [
    "df_cleaned = df.drop(*columns_all_nulls)\n",
    "df_cleaned.limit(10).display()"
   ]
  },
  {
   "cell_type": "code",
   "execution_count": 0,
   "metadata": {
    "application/vnd.databricks.v1+cell": {
     "cellMetadata": {
      "byteLimit": 2048000,
      "rowLimit": 10000
     },
     "inputWidgets": {},
     "nuid": "4e72b815-96c3-416e-9a12-bb82c6df02d2",
     "showTitle": false,
     "title": ""
    }
   },
   "outputs": [
    {
     "output_type": "display_data",
     "data": {
      "text/html": [
       "<style scoped>\n",
       "  .table-result-container {\n",
       "    max-height: 300px;\n",
       "    overflow: auto;\n",
       "  }\n",
       "  table, th, td {\n",
       "    border: 1px solid black;\n",
       "    border-collapse: collapse;\n",
       "  }\n",
       "  th, td {\n",
       "    padding: 5px;\n",
       "  }\n",
       "  th {\n",
       "    text-align: left;\n",
       "  }\n",
       "</style><div class='table-result-container'><table class='table-result'><thead style='background-color: white'><tr><th>_c0</th><th>date</th><th>serial_number</th><th>model</th><th>capacity_bytes</th><th>failure</th><th>smart_1_raw</th><th>smart_5_raw</th><th>smart_9_raw</th><th>smart_194_raw</th><th>smart_197_raw</th></tr></thead><tbody><tr><td>0</td><td>2013-04-10</td><td>MJ0351YNG9Z0XA</td><td>Hitachi HDS5C3030ALA630</td><td>3000592982016</td><td>false</td><td>0</td><td>0</td><td>4031</td><td>26</td><td>0</td></tr><tr><td>1</td><td>2013-04-10</td><td>MJ0351YNG9WJSA</td><td>Hitachi HDS5C3030ALA630</td><td>3000592982016</td><td>false</td><td>0</td><td>2</td><td>4099</td><td>29</td><td>0</td></tr><tr><td>2</td><td>2013-04-10</td><td>MJ0351YNG9Z7LA</td><td>Hitachi HDS5C3030ALA630</td><td>3000592982016</td><td>false</td><td>0</td><td>0</td><td>3593</td><td>26</td><td>0</td></tr><tr><td>3</td><td>2013-04-10</td><td>MJ0351YNGAD37A</td><td>Hitachi HDS5C3030ALA630</td><td>3000592982016</td><td>false</td><td>0</td><td>0</td><td>2339</td><td>29</td><td>0</td></tr><tr><td>4</td><td>2013-04-10</td><td>MJ0351YNGABYAA</td><td>Hitachi HDS5C3030ALA630</td><td>3000592982016</td><td>false</td><td>0</td><td>0</td><td>2741</td><td>25</td><td>0</td></tr><tr><td>5</td><td>2013-04-10</td><td>MJ1311YNG7ESHA</td><td>Hitachi HDS5C3030ALA630</td><td>3000592982016</td><td>false</td><td>0</td><td>0</td><td>8723</td><td>20</td><td>0</td></tr><tr><td>6</td><td>2013-04-10</td><td>S2F0BE6T</td><td>ST1500DM003</td><td>1500301910016</td><td>false</td><td>23972424</td><td>0</td><td>4378</td><td>25</td><td>0</td></tr><tr><td>7</td><td>2013-04-10</td><td>W1F0LRXG</td><td>ST3000DM001</td><td>3000592982016</td><td>false</td><td>5538736</td><td>0</td><td>6297</td><td>25</td><td>8</td></tr><tr><td>8</td><td>2013-04-10</td><td>6XW099YJ</td><td>ST31500541AS</td><td>1500301910016</td><td>false</td><td>17458817</td><td>0</td><td>24737</td><td>24</td><td>0</td></tr><tr><td>9</td><td>2013-04-10</td><td>W1F09LPX</td><td>ST3000DM001</td><td>3000592982016</td><td>false</td><td>49517448</td><td>0</td><td>7484</td><td>29</td><td>0</td></tr></tbody></table></div>"
      ]
     },
     "metadata": {
      "application/vnd.databricks.v1+output": {
       "addedWidgets": {},
       "aggData": [],
       "aggError": "",
       "aggOverflow": false,
       "aggSchema": [],
       "aggSeriesLimitReached": false,
       "aggType": "",
       "arguments": {},
       "columnCustomDisplayInfos": {},
       "data": [
        [
         0,
         "2013-04-10",
         "MJ0351YNG9Z0XA",
         "Hitachi HDS5C3030ALA630",
         3000592982016,
         false,
         0,
         0,
         4031,
         26,
         0
        ],
        [
         1,
         "2013-04-10",
         "MJ0351YNG9WJSA",
         "Hitachi HDS5C3030ALA630",
         3000592982016,
         false,
         0,
         2,
         4099,
         29,
         0
        ],
        [
         2,
         "2013-04-10",
         "MJ0351YNG9Z7LA",
         "Hitachi HDS5C3030ALA630",
         3000592982016,
         false,
         0,
         0,
         3593,
         26,
         0
        ],
        [
         3,
         "2013-04-10",
         "MJ0351YNGAD37A",
         "Hitachi HDS5C3030ALA630",
         3000592982016,
         false,
         0,
         0,
         2339,
         29,
         0
        ],
        [
         4,
         "2013-04-10",
         "MJ0351YNGABYAA",
         "Hitachi HDS5C3030ALA630",
         3000592982016,
         false,
         0,
         0,
         2741,
         25,
         0
        ],
        [
         5,
         "2013-04-10",
         "MJ1311YNG7ESHA",
         "Hitachi HDS5C3030ALA630",
         3000592982016,
         false,
         0,
         0,
         8723,
         20,
         0
        ],
        [
         6,
         "2013-04-10",
         "S2F0BE6T",
         "ST1500DM003",
         1500301910016,
         false,
         23972424,
         0,
         4378,
         25,
         0
        ],
        [
         7,
         "2013-04-10",
         "W1F0LRXG",
         "ST3000DM001",
         3000592982016,
         false,
         5538736,
         0,
         6297,
         25,
         8
        ],
        [
         8,
         "2013-04-10",
         "6XW099YJ",
         "ST31500541AS",
         1500301910016,
         false,
         17458817,
         0,
         24737,
         24,
         0
        ],
        [
         9,
         "2013-04-10",
         "W1F09LPX",
         "ST3000DM001",
         3000592982016,
         false,
         49517448,
         0,
         7484,
         29,
         0
        ]
       ],
       "datasetInfos": [],
       "dbfsResultPath": null,
       "isJsonSchema": true,
       "metadata": {},
       "overflow": false,
       "plotOptions": {
        "customPlotOptions": {},
        "displayType": "table",
        "pivotAggregation": null,
        "pivotColumns": null,
        "xColumns": null,
        "yColumns": null
       },
       "removedWidgets": [],
       "schema": [
        {
         "metadata": "{}",
         "name": "_c0",
         "type": "\"integer\""
        },
        {
         "metadata": "{}",
         "name": "date",
         "type": "\"date\""
        },
        {
         "metadata": "{}",
         "name": "serial_number",
         "type": "\"string\""
        },
        {
         "metadata": "{}",
         "name": "model",
         "type": "\"string\""
        },
        {
         "metadata": "{}",
         "name": "capacity_bytes",
         "type": "\"long\""
        },
        {
         "metadata": "{}",
         "name": "failure",
         "type": "\"boolean\""
        },
        {
         "metadata": "{}",
         "name": "smart_1_raw",
         "type": "\"long\""
        },
        {
         "metadata": "{}",
         "name": "smart_5_raw",
         "type": "\"integer\""
        },
        {
         "metadata": "{}",
         "name": "smart_9_raw",
         "type": "\"integer\""
        },
        {
         "metadata": "{}",
         "name": "smart_194_raw",
         "type": "\"integer\""
        },
        {
         "metadata": "{}",
         "name": "smart_197_raw",
         "type": "\"integer\""
        }
       ],
       "type": "table"
      }
     },
     "output_type": "display_data"
    }
   ],
   "source": [
    "# Alterar o tipo de dados das colunas\n",
    "df_new = df_cleaned.withColumn(\"_c0\", col(\"_c0\").cast(\"int\"))\n",
    "df_new = df_new.withColumn(\"date\", col(\"date\").cast(\"date\"))\n",
    "df_new = df_new.withColumn(\"capacity_bytes\", col(\"capacity_bytes\").cast(\"long\"))\n",
    "df_new = df_new.withColumn(\"failure\", col(\"failure\").cast(\"boolean\"))\n",
    "df_new = df_new.withColumn(\"smart_1_raw\", col(\"smart_1_raw\").cast(\"long\"))\n",
    "df_new = df_new.withColumn(\"smart_5_raw\", col(\"smart_5_raw\").cast(\"integer\"))\n",
    "df_new = df_new.withColumn(\"smart_9_raw\", col(\"smart_9_raw\").cast(\"integer\"))\n",
    "df_new = df_new.withColumn(\"smart_194_raw\", col(\"smart_194_raw\").cast(\"integer\"))\n",
    "df_new = df_new.withColumn(\"smart_197_raw\", col(\"smart_197_raw\").cast(\"integer\"))\n",
    "df_new = df_new.orderBy(\"_c0\")\n",
    "df_new.limit(10).display()"
   ]
  },
  {
   "cell_type": "markdown",
   "metadata": {
    "application/vnd.databricks.v1+cell": {
     "cellMetadata": {},
     "inputWidgets": {},
     "nuid": "e07a3afe-dff5-4ad9-a181-c6132f32f64e",
     "showTitle": false,
     "title": ""
    }
   },
   "source": [
    "Depois retiradas as colunas sem informação relevante, os tipos de dados das colunas são alterados."
   ]
  },
  {
   "cell_type": "code",
   "execution_count": 0,
   "metadata": {
    "application/vnd.databricks.v1+cell": {
     "cellMetadata": {
      "byteLimit": 2048000,
      "rowLimit": 10000
     },
     "inputWidgets": {},
     "nuid": "c06120ba-6662-4de0-b46a-7b443e462a0c",
     "showTitle": false,
     "title": ""
    }
   },
   "outputs": [
    {
     "output_type": "display_data",
     "data": {
      "text/html": [
       "<style scoped>\n",
       "  .table-result-container {\n",
       "    max-height: 300px;\n",
       "    overflow: auto;\n",
       "  }\n",
       "  table, th, td {\n",
       "    border: 1px solid black;\n",
       "    border-collapse: collapse;\n",
       "  }\n",
       "  th, td {\n",
       "    padding: 5px;\n",
       "  }\n",
       "  th {\n",
       "    text-align: left;\n",
       "  }\n",
       "</style><div class='table-result-container'><table class='table-result'><thead style='background-color: white'><tr><th>_c0</th><th>date</th><th>serial_number</th><th>model</th><th>capacity_bytes</th><th>failure</th><th>smart_1_raw</th><th>smart_5_raw</th><th>smart_9_raw</th><th>smart_194_raw</th><th>smart_197_raw</th></tr></thead><tbody><tr><td>0</td><td>0</td><td>0</td><td>0</td><td>0</td><td>0</td><td>0</td><td>0</td><td>0</td><td>0</td><td>0</td></tr></tbody></table></div>"
      ]
     },
     "metadata": {
      "application/vnd.databricks.v1+output": {
       "addedWidgets": {},
       "aggData": [],
       "aggError": "",
       "aggOverflow": false,
       "aggSchema": [],
       "aggSeriesLimitReached": false,
       "aggType": "",
       "arguments": {},
       "columnCustomDisplayInfos": {},
       "data": [
        [
         0,
         0,
         0,
         0,
         0,
         0,
         0,
         0,
         0,
         0,
         0
        ]
       ],
       "datasetInfos": [],
       "dbfsResultPath": null,
       "isJsonSchema": true,
       "metadata": {},
       "overflow": false,
       "plotOptions": {
        "customPlotOptions": {},
        "displayType": "table",
        "pivotAggregation": null,
        "pivotColumns": null,
        "xColumns": null,
        "yColumns": null
       },
       "removedWidgets": [],
       "schema": [
        {
         "metadata": "{}",
         "name": "_c0",
         "type": "\"long\""
        },
        {
         "metadata": "{}",
         "name": "date",
         "type": "\"long\""
        },
        {
         "metadata": "{}",
         "name": "serial_number",
         "type": "\"long\""
        },
        {
         "metadata": "{}",
         "name": "model",
         "type": "\"long\""
        },
        {
         "metadata": "{}",
         "name": "capacity_bytes",
         "type": "\"long\""
        },
        {
         "metadata": "{}",
         "name": "failure",
         "type": "\"long\""
        },
        {
         "metadata": "{}",
         "name": "smart_1_raw",
         "type": "\"long\""
        },
        {
         "metadata": "{}",
         "name": "smart_5_raw",
         "type": "\"long\""
        },
        {
         "metadata": "{}",
         "name": "smart_9_raw",
         "type": "\"long\""
        },
        {
         "metadata": "{}",
         "name": "smart_194_raw",
         "type": "\"long\""
        },
        {
         "metadata": "{}",
         "name": "smart_197_raw",
         "type": "\"long\""
        }
       ],
       "type": "table"
      }
     },
     "output_type": "display_data"
    }
   ],
   "source": [
    "# Criar uma expressão para contar os valores nulos em cada coluna\n",
    "null_counts_3 = df_new.select([sum(when(col(c).isNull(), 1).otherwise(0)).alias(c) for c in df_new.columns])\n",
    "\n",
    "# Mostrar os resultados\n",
    "display(null_counts_3)"
   ]
  },
  {
   "cell_type": "code",
   "execution_count": 0,
   "metadata": {
    "application/vnd.databricks.v1+cell": {
     "cellMetadata": {
      "byteLimit": 2048000,
      "rowLimit": 10000
     },
     "inputWidgets": {},
     "nuid": "c6a243d2-80f1-4025-8bc2-bfd95cac4559",
     "showTitle": false,
     "title": ""
    }
   },
   "outputs": [
    {
     "output_type": "stream",
     "name": "stdout",
     "output_type": "stream",
     "text": [
      "Linhas Duplicadas:\n"
     ]
    },
    {
     "output_type": "display_data",
     "data": {
      "text/html": [
       "<style scoped>\n",
       "  .table-result-container {\n",
       "    max-height: 300px;\n",
       "    overflow: auto;\n",
       "  }\n",
       "  table, th, td {\n",
       "    border: 1px solid black;\n",
       "    border-collapse: collapse;\n",
       "  }\n",
       "  th, td {\n",
       "    padding: 5px;\n",
       "  }\n",
       "  th {\n",
       "    text-align: left;\n",
       "  }\n",
       "</style><div class='table-result-container'><table class='table-result'><thead style='background-color: white'><tr><th>_c0</th><th>date</th><th>serial_number</th><th>model</th><th>capacity_bytes</th><th>failure</th><th>smart_1_raw</th><th>smart_5_raw</th><th>smart_9_raw</th><th>smart_194_raw</th><th>smart_197_raw</th><th>count</th></tr></thead><tbody></tbody></table></div>"
      ]
     },
     "metadata": {
      "application/vnd.databricks.v1+output": {
       "addedWidgets": {},
       "aggData": [],
       "aggError": "",
       "aggOverflow": false,
       "aggSchema": [],
       "aggSeriesLimitReached": false,
       "aggType": "",
       "arguments": {},
       "columnCustomDisplayInfos": {},
       "data": [],
       "datasetInfos": [],
       "dbfsResultPath": null,
       "isJsonSchema": true,
       "metadata": {},
       "overflow": false,
       "plotOptions": {
        "customPlotOptions": {},
        "displayType": "table",
        "pivotAggregation": null,
        "pivotColumns": null,
        "xColumns": null,
        "yColumns": null
       },
       "removedWidgets": [],
       "schema": [
        {
         "metadata": "{}",
         "name": "_c0",
         "type": "\"integer\""
        },
        {
         "metadata": "{}",
         "name": "date",
         "type": "\"date\""
        },
        {
         "metadata": "{}",
         "name": "serial_number",
         "type": "\"string\""
        },
        {
         "metadata": "{}",
         "name": "model",
         "type": "\"string\""
        },
        {
         "metadata": "{}",
         "name": "capacity_bytes",
         "type": "\"long\""
        },
        {
         "metadata": "{}",
         "name": "failure",
         "type": "\"boolean\""
        },
        {
         "metadata": "{}",
         "name": "smart_1_raw",
         "type": "\"long\""
        },
        {
         "metadata": "{}",
         "name": "smart_5_raw",
         "type": "\"integer\""
        },
        {
         "metadata": "{}",
         "name": "smart_9_raw",
         "type": "\"integer\""
        },
        {
         "metadata": "{}",
         "name": "smart_194_raw",
         "type": "\"integer\""
        },
        {
         "metadata": "{}",
         "name": "smart_197_raw",
         "type": "\"integer\""
        },
        {
         "metadata": "{}",
         "name": "count",
         "type": "\"long\""
        }
       ],
       "type": "table"
      }
     },
     "output_type": "display_data"
    },
    {
     "output_type": "stream",
     "name": "stdout",
     "output_type": "stream",
     "text": [
      "Todas as Instâncias das Linhas Duplicadas:\n"
     ]
    },
    {
     "output_type": "display_data",
     "data": {
      "text/html": [
       "<style scoped>\n",
       "  .table-result-container {\n",
       "    max-height: 300px;\n",
       "    overflow: auto;\n",
       "  }\n",
       "  table, th, td {\n",
       "    border: 1px solid black;\n",
       "    border-collapse: collapse;\n",
       "  }\n",
       "  th, td {\n",
       "    padding: 5px;\n",
       "  }\n",
       "  th {\n",
       "    text-align: left;\n",
       "  }\n",
       "</style><div class='table-result-container'><table class='table-result'><thead style='background-color: white'><tr><th>_c0</th><th>date</th><th>serial_number</th><th>model</th><th>capacity_bytes</th><th>failure</th><th>smart_1_raw</th><th>smart_5_raw</th><th>smart_9_raw</th><th>smart_194_raw</th><th>smart_197_raw</th><th>count</th></tr></thead><tbody></tbody></table></div>"
      ]
     },
     "metadata": {
      "application/vnd.databricks.v1+output": {
       "addedWidgets": {},
       "aggData": [],
       "aggError": "",
       "aggOverflow": false,
       "aggSchema": [],
       "aggSeriesLimitReached": false,
       "aggType": "",
       "arguments": {},
       "columnCustomDisplayInfos": {},
       "data": [],
       "datasetInfos": [],
       "dbfsResultPath": null,
       "isJsonSchema": true,
       "metadata": {},
       "overflow": false,
       "plotOptions": {
        "customPlotOptions": {},
        "displayType": "table",
        "pivotAggregation": null,
        "pivotColumns": null,
        "xColumns": null,
        "yColumns": null
       },
       "removedWidgets": [],
       "schema": [
        {
         "metadata": "{}",
         "name": "_c0",
         "type": "\"integer\""
        },
        {
         "metadata": "{}",
         "name": "date",
         "type": "\"date\""
        },
        {
         "metadata": "{}",
         "name": "serial_number",
         "type": "\"string\""
        },
        {
         "metadata": "{}",
         "name": "model",
         "type": "\"string\""
        },
        {
         "metadata": "{}",
         "name": "capacity_bytes",
         "type": "\"long\""
        },
        {
         "metadata": "{}",
         "name": "failure",
         "type": "\"boolean\""
        },
        {
         "metadata": "{}",
         "name": "smart_1_raw",
         "type": "\"long\""
        },
        {
         "metadata": "{}",
         "name": "smart_5_raw",
         "type": "\"integer\""
        },
        {
         "metadata": "{}",
         "name": "smart_9_raw",
         "type": "\"integer\""
        },
        {
         "metadata": "{}",
         "name": "smart_194_raw",
         "type": "\"integer\""
        },
        {
         "metadata": "{}",
         "name": "smart_197_raw",
         "type": "\"integer\""
        },
        {
         "metadata": "{}",
         "name": "count",
         "type": "\"long\""
        }
       ],
       "type": "table"
      }
     },
     "output_type": "display_data"
    }
   ],
   "source": [
    "# Agrupar todas as colunas e contar as ocorrências\n",
    "duplicates = df_new.groupBy(df_cleaned.columns).count().filter(\"count > 1\")\n",
    "\n",
    "# Mostrar as linhas duplicadas\n",
    "print(\"Linhas Duplicadas:\")\n",
    "display(duplicates)\n",
    "\n",
    "# Identificar todas as instâncias das linhas duplicadas\n",
    "duplicate_instances = df_new.join(duplicates, on=df_new.columns, how='inner')\n",
    "\n",
    "# Mostrar todas as instâncias das linhas duplicadas\n",
    "print(\"Todas as Instâncias das Linhas Duplicadas:\")\n",
    "display(duplicate_instances)"
   ]
  },
  {
   "cell_type": "markdown",
   "metadata": {
    "application/vnd.databricks.v1+cell": {
     "cellMetadata": {},
     "inputWidgets": {},
     "nuid": "3f124dd8-d8aa-4313-9727-dbb87f38c89e",
     "showTitle": false,
     "title": ""
    }
   },
   "source": [
    "Nos dois últimos trechos de código são verificados se existem valores nulos e linhas repetidas."
   ]
  },
  {
   "cell_type": "code",
   "execution_count": 0,
   "metadata": {
    "application/vnd.databricks.v1+cell": {
     "cellMetadata": {
      "byteLimit": 2048000,
      "rowLimit": 10000
     },
     "inputWidgets": {},
     "nuid": "37ebb59e-5316-453c-996a-b909bb7ca17d",
     "showTitle": false,
     "title": ""
    }
   },
   "outputs": [
    {
     "output_type": "display_data",
     "data": {
      "text/html": [
       "<style scoped>\n",
       "  .table-result-container {\n",
       "    max-height: 300px;\n",
       "    overflow: auto;\n",
       "  }\n",
       "  table, th, td {\n",
       "    border: 1px solid black;\n",
       "    border-collapse: collapse;\n",
       "  }\n",
       "  th, td {\n",
       "    padding: 5px;\n",
       "  }\n",
       "  th {\n",
       "    text-align: left;\n",
       "  }\n",
       "</style><div class='table-result-container'><table class='table-result'><thead style='background-color: white'><tr><th>min__c0</th><th>max__c0</th><th>min_date</th><th>max_date</th><th>min_serial_number</th><th>max_serial_number</th><th>min_model</th><th>max_model</th><th>min_capacity_bytes</th><th>max_capacity_bytes</th><th>min_failure</th><th>max_failure</th><th>min_smart_1_raw</th><th>max_smart_1_raw</th><th>min_smart_5_raw</th><th>max_smart_5_raw</th><th>min_smart_9_raw</th><th>max_smart_9_raw</th><th>min_smart_194_raw</th><th>max_smart_194_raw</th><th>min_smart_197_raw</th><th>max_smart_197_raw</th></tr></thead><tbody><tr><td>0</td><td>5091500</td><td>2013-04-10</td><td>2013-12-31</td><td>13H2B97AS</td><td>Z3010377</td><td>HGST HDS724040ALE640</td><td>WDC WD30EZRX</td><td>1000204886016</td><td>4000787030016</td><td>false</td><td>true</td><td>0</td><td>4410210874</td><td>0</td><td>65384</td><td>0</td><td>260425</td><td>9</td><td>50</td><td>0</td><td>65535</td></tr></tbody></table></div>"
      ]
     },
     "metadata": {
      "application/vnd.databricks.v1+output": {
       "addedWidgets": {},
       "aggData": [],
       "aggError": "",
       "aggOverflow": false,
       "aggSchema": [],
       "aggSeriesLimitReached": false,
       "aggType": "",
       "arguments": {},
       "columnCustomDisplayInfos": {},
       "data": [
        [
         0,
         5091500,
         "2013-04-10",
         "2013-12-31",
         "13H2B97AS",
         "Z3010377",
         "HGST HDS724040ALE640",
         "WDC WD30EZRX",
         1000204886016,
         4000787030016,
         false,
         true,
         0,
         4410210874,
         0,
         65384,
         0,
         260425,
         9,
         50,
         0,
         65535
        ]
       ],
       "datasetInfos": [],
       "dbfsResultPath": null,
       "isJsonSchema": true,
       "metadata": {},
       "overflow": false,
       "plotOptions": {
        "customPlotOptions": {},
        "displayType": "table",
        "pivotAggregation": null,
        "pivotColumns": null,
        "xColumns": null,
        "yColumns": null
       },
       "removedWidgets": [],
       "schema": [
        {
         "metadata": "{}",
         "name": "min__c0",
         "type": "\"integer\""
        },
        {
         "metadata": "{}",
         "name": "max__c0",
         "type": "\"integer\""
        },
        {
         "metadata": "{}",
         "name": "min_date",
         "type": "\"date\""
        },
        {
         "metadata": "{}",
         "name": "max_date",
         "type": "\"date\""
        },
        {
         "metadata": "{}",
         "name": "min_serial_number",
         "type": "\"string\""
        },
        {
         "metadata": "{}",
         "name": "max_serial_number",
         "type": "\"string\""
        },
        {
         "metadata": "{}",
         "name": "min_model",
         "type": "\"string\""
        },
        {
         "metadata": "{}",
         "name": "max_model",
         "type": "\"string\""
        },
        {
         "metadata": "{}",
         "name": "min_capacity_bytes",
         "type": "\"long\""
        },
        {
         "metadata": "{}",
         "name": "max_capacity_bytes",
         "type": "\"long\""
        },
        {
         "metadata": "{}",
         "name": "min_failure",
         "type": "\"boolean\""
        },
        {
         "metadata": "{}",
         "name": "max_failure",
         "type": "\"boolean\""
        },
        {
         "metadata": "{}",
         "name": "min_smart_1_raw",
         "type": "\"long\""
        },
        {
         "metadata": "{}",
         "name": "max_smart_1_raw",
         "type": "\"long\""
        },
        {
         "metadata": "{}",
         "name": "min_smart_5_raw",
         "type": "\"integer\""
        },
        {
         "metadata": "{}",
         "name": "max_smart_5_raw",
         "type": "\"integer\""
        },
        {
         "metadata": "{}",
         "name": "min_smart_9_raw",
         "type": "\"integer\""
        },
        {
         "metadata": "{}",
         "name": "max_smart_9_raw",
         "type": "\"integer\""
        },
        {
         "metadata": "{}",
         "name": "min_smart_194_raw",
         "type": "\"integer\""
        },
        {
         "metadata": "{}",
         "name": "max_smart_194_raw",
         "type": "\"integer\""
        },
        {
         "metadata": "{}",
         "name": "min_smart_197_raw",
         "type": "\"integer\""
        },
        {
         "metadata": "{}",
         "name": "max_smart_197_raw",
         "type": "\"integer\""
        }
       ],
       "type": "table"
      }
     },
     "output_type": "display_data"
    }
   ],
   "source": [
    "\n",
    "# Obter uma lista dos nomes das colunas\n",
    "columns = df_new.columns\n",
    "\n",
    "# Construir uma lista de expressões para as funções min e max\n",
    "expressions = []\n",
    "for c in columns:\n",
    "    expressions.append(min(c).alias(f\"min_{c}\"))\n",
    "    expressions.append(max(c).alias(f\"max_{c}\"))\n",
    "    \n",
    "# Calcular o valor mínimo e máximo de cada coluna\n",
    "result = df_new.select(expressions)\n",
    "result.display()"
   ]
  },
  {
   "cell_type": "code",
   "execution_count": 0,
   "metadata": {
    "application/vnd.databricks.v1+cell": {
     "cellMetadata": {
      "byteLimit": 2048000,
      "rowLimit": 10000
     },
     "inputWidgets": {},
     "nuid": "5e837ffb-8743-4167-a01c-d706476e7ec0",
     "showTitle": false,
     "title": ""
    }
   },
   "outputs": [],
   "source": [
    "df_new_renamed = df_new.withColumnRenamed(\"smart_1_raw\", \"Read_Error_Rate\") \\\n",
    "                        .withColumnRenamed(\"smart_5_raw\", \"Reallocated_Sectors_Count\") \\\n",
    "                        .withColumnRenamed(\"smart_9_raw\", \"Power_On_Hours\")\\\n",
    "                        .withColumnRenamed(\"smart_194_raw\", \"Temperature\") \\\n",
    "                        .withColumnRenamed(\"smart_197_raw\", \"Current_Pending_Sector_Count\")       "
   ]
  },
  {
   "cell_type": "code",
   "execution_count": 0,
   "metadata": {
    "application/vnd.databricks.v1+cell": {
     "cellMetadata": {
      "byteLimit": 2048000,
      "rowLimit": 10000
     },
     "inputWidgets": {},
     "nuid": "ac4ac4e6-0b58-4e6c-89f0-3931f687f999",
     "showTitle": false,
     "title": ""
    }
   },
   "outputs": [
    {
     "output_type": "execute_result",
     "data": {
      "text/plain": [
       "DataFrame[]"
      ]
     },
     "execution_count": 10,
     "metadata": {},
     "output_type": "execute_result"
    }
   ],
   "source": [
    "\n",
    "\n",
    "spark.sql(\"CREATE DATABASE IF NOT EXISTS PRATA\")\n"
   ]
  },
  {
   "cell_type": "code",
   "execution_count": 0,
   "metadata": {
    "application/vnd.databricks.v1+cell": {
     "cellMetadata": {
      "byteLimit": 2048000,
      "rowLimit": 10000
     },
     "inputWidgets": {},
     "nuid": "2b9b74f5-16b3-4024-92ea-0bf7c74ec15c",
     "showTitle": false,
     "title": ""
    }
   },
   "outputs": [
    {
     "output_type": "display_data",
     "data": {
      "text/html": [
       "<style scoped>\n",
       "  .table-result-container {\n",
       "    max-height: 300px;\n",
       "    overflow: auto;\n",
       "  }\n",
       "  table, th, td {\n",
       "    border: 1px solid black;\n",
       "    border-collapse: collapse;\n",
       "  }\n",
       "  th, td {\n",
       "    padding: 5px;\n",
       "  }\n",
       "  th {\n",
       "    text-align: left;\n",
       "  }\n",
       "</style><div class='table-result-container'><table class='table-result'><thead style='background-color: white'><tr><th>_c0</th><th>date</th><th>serial_number</th><th>model</th><th>capacity_bytes</th><th>failure</th><th>Read_Error_Rate</th><th>Reallocated_Sectors_Count</th><th>Power_On_Hours</th><th>Temperature</th><th>Current_Pending_Sector_Count</th></tr></thead><tbody><tr><td>0</td><td>2013-04-10</td><td>MJ0351YNG9Z0XA</td><td>Hitachi HDS5C3030ALA630</td><td>3000592982016</td><td>false</td><td>0</td><td>0</td><td>4031</td><td>26</td><td>0</td></tr><tr><td>1</td><td>2013-04-10</td><td>MJ0351YNG9WJSA</td><td>Hitachi HDS5C3030ALA630</td><td>3000592982016</td><td>false</td><td>0</td><td>2</td><td>4099</td><td>29</td><td>0</td></tr><tr><td>2</td><td>2013-04-10</td><td>MJ0351YNG9Z7LA</td><td>Hitachi HDS5C3030ALA630</td><td>3000592982016</td><td>false</td><td>0</td><td>0</td><td>3593</td><td>26</td><td>0</td></tr><tr><td>3</td><td>2013-04-10</td><td>MJ0351YNGAD37A</td><td>Hitachi HDS5C3030ALA630</td><td>3000592982016</td><td>false</td><td>0</td><td>0</td><td>2339</td><td>29</td><td>0</td></tr><tr><td>4</td><td>2013-04-10</td><td>MJ0351YNGABYAA</td><td>Hitachi HDS5C3030ALA630</td><td>3000592982016</td><td>false</td><td>0</td><td>0</td><td>2741</td><td>25</td><td>0</td></tr><tr><td>5</td><td>2013-04-10</td><td>MJ1311YNG7ESHA</td><td>Hitachi HDS5C3030ALA630</td><td>3000592982016</td><td>false</td><td>0</td><td>0</td><td>8723</td><td>20</td><td>0</td></tr><tr><td>6</td><td>2013-04-10</td><td>S2F0BE6T</td><td>ST1500DM003</td><td>1500301910016</td><td>false</td><td>23972424</td><td>0</td><td>4378</td><td>25</td><td>0</td></tr><tr><td>7</td><td>2013-04-10</td><td>W1F0LRXG</td><td>ST3000DM001</td><td>3000592982016</td><td>false</td><td>5538736</td><td>0</td><td>6297</td><td>25</td><td>8</td></tr><tr><td>8</td><td>2013-04-10</td><td>6XW099YJ</td><td>ST31500541AS</td><td>1500301910016</td><td>false</td><td>17458817</td><td>0</td><td>24737</td><td>24</td><td>0</td></tr><tr><td>9</td><td>2013-04-10</td><td>W1F09LPX</td><td>ST3000DM001</td><td>3000592982016</td><td>false</td><td>49517448</td><td>0</td><td>7484</td><td>29</td><td>0</td></tr></tbody></table></div>"
      ]
     },
     "metadata": {
      "application/vnd.databricks.v1+output": {
       "addedWidgets": {},
       "aggData": [],
       "aggError": "",
       "aggOverflow": false,
       "aggSchema": [],
       "aggSeriesLimitReached": false,
       "aggType": "",
       "arguments": {},
       "columnCustomDisplayInfos": {},
       "data": [
        [
         0,
         "2013-04-10",
         "MJ0351YNG9Z0XA",
         "Hitachi HDS5C3030ALA630",
         3000592982016,
         false,
         0,
         0,
         4031,
         26,
         0
        ],
        [
         1,
         "2013-04-10",
         "MJ0351YNG9WJSA",
         "Hitachi HDS5C3030ALA630",
         3000592982016,
         false,
         0,
         2,
         4099,
         29,
         0
        ],
        [
         2,
         "2013-04-10",
         "MJ0351YNG9Z7LA",
         "Hitachi HDS5C3030ALA630",
         3000592982016,
         false,
         0,
         0,
         3593,
         26,
         0
        ],
        [
         3,
         "2013-04-10",
         "MJ0351YNGAD37A",
         "Hitachi HDS5C3030ALA630",
         3000592982016,
         false,
         0,
         0,
         2339,
         29,
         0
        ],
        [
         4,
         "2013-04-10",
         "MJ0351YNGABYAA",
         "Hitachi HDS5C3030ALA630",
         3000592982016,
         false,
         0,
         0,
         2741,
         25,
         0
        ],
        [
         5,
         "2013-04-10",
         "MJ1311YNG7ESHA",
         "Hitachi HDS5C3030ALA630",
         3000592982016,
         false,
         0,
         0,
         8723,
         20,
         0
        ],
        [
         6,
         "2013-04-10",
         "S2F0BE6T",
         "ST1500DM003",
         1500301910016,
         false,
         23972424,
         0,
         4378,
         25,
         0
        ],
        [
         7,
         "2013-04-10",
         "W1F0LRXG",
         "ST3000DM001",
         3000592982016,
         false,
         5538736,
         0,
         6297,
         25,
         8
        ],
        [
         8,
         "2013-04-10",
         "6XW099YJ",
         "ST31500541AS",
         1500301910016,
         false,
         17458817,
         0,
         24737,
         24,
         0
        ],
        [
         9,
         "2013-04-10",
         "W1F09LPX",
         "ST3000DM001",
         3000592982016,
         false,
         49517448,
         0,
         7484,
         29,
         0
        ]
       ],
       "datasetInfos": [],
       "dbfsResultPath": null,
       "isJsonSchema": true,
       "metadata": {},
       "overflow": false,
       "plotOptions": {
        "customPlotOptions": {},
        "displayType": "table",
        "pivotAggregation": null,
        "pivotColumns": null,
        "xColumns": null,
        "yColumns": null
       },
       "removedWidgets": [],
       "schema": [
        {
         "metadata": "{}",
         "name": "_c0",
         "type": "\"integer\""
        },
        {
         "metadata": "{}",
         "name": "date",
         "type": "\"date\""
        },
        {
         "metadata": "{}",
         "name": "serial_number",
         "type": "\"string\""
        },
        {
         "metadata": "{}",
         "name": "model",
         "type": "\"string\""
        },
        {
         "metadata": "{}",
         "name": "capacity_bytes",
         "type": "\"long\""
        },
        {
         "metadata": "{}",
         "name": "failure",
         "type": "\"boolean\""
        },
        {
         "metadata": "{}",
         "name": "Read_Error_Rate",
         "type": "\"long\""
        },
        {
         "metadata": "{}",
         "name": "Reallocated_Sectors_Count",
         "type": "\"integer\""
        },
        {
         "metadata": "{}",
         "name": "Power_On_Hours",
         "type": "\"integer\""
        },
        {
         "metadata": "{}",
         "name": "Temperature",
         "type": "\"integer\""
        },
        {
         "metadata": "{}",
         "name": "Current_Pending_Sector_Count",
         "type": "\"integer\""
        }
       ],
       "type": "table"
      }
     },
     "output_type": "display_data"
    }
   ],
   "source": [
    "spark.conf.set(\"spark.sql.legacy.allowCreatingManagedTableUsingNonemptyLocation\",\"true\")\n",
    "\n",
    "permanent_table_name = \"PRATA.2013_hard_drive_csv_parquet_prata\"\n",
    "\n",
    "df_new_renamed.write.mode(\"overwrite\").format(\"parquet\").saveAsTable(permanent_table_name)\n",
    "df_new_renamed.limit(10).display()"
   ]
  }
 ],
 "metadata": {
  "application/vnd.databricks.v1+notebook": {
   "dashboards": [],
   "environmentMetadata": null,
   "language": "python",
   "notebookMetadata": {
    "pythonIndentUnit": 4
   },
   "notebookName": "PRATA",
   "widgets": {}
  }
 },
 "nbformat": 4,
 "nbformat_minor": 0
}
