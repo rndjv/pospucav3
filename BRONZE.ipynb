{
 "cells": [
  {
   "cell_type": "markdown",
   "metadata": {
    "application/vnd.databricks.v1+cell": {
     "cellMetadata": {
      "byteLimit": 2048000,
      "rowLimit": 10000
     },
     "inputWidgets": {},
     "nuid": "96816ed7-b08a-4ca3-abb9-f99880c3535d",
     "showTitle": false,
     "title": ""
    }
   },
   "source": [
    "\n",
    "## Overview\n",
    "\n",
    "This notebook will show you how to create and query a table or DataFrame that you uploaded to DBFS. [DBFS](https://docs.databricks.com/user-guide/dbfs-databricks-file-system.html) is a Databricks File System that allows you to store data for querying inside of Databricks. This notebook assumes that you have a file already inside of DBFS that you would like to read from.\n",
    "\n",
    "This notebook is written in **Python** so the default cell type is Python. However, you can use different languages by using the `%LANGUAGE` syntax. Python, Scala, SQL, and R are all supported."
   ]
  },
  {
   "cell_type": "code",
   "execution_count": 0,
   "metadata": {
    "application/vnd.databricks.v1+cell": {
     "cellMetadata": {
      "byteLimit": 2048000,
      "rowLimit": 10000
     },
     "inputWidgets": {},
     "nuid": "6482be4c-f067-47c9-b0ac-35c938b94601",
     "showTitle": false,
     "title": ""
    }
   },
   "outputs": [
    {
     "output_type": "display_data",
     "data": {
      "text/html": [
       "<style scoped>\n",
       "  .table-result-container {\n",
       "    max-height: 300px;\n",
       "    overflow: auto;\n",
       "  }\n",
       "  table, th, td {\n",
       "    border: 1px solid black;\n",
       "    border-collapse: collapse;\n",
       "  }\n",
       "  th, td {\n",
       "    padding: 5px;\n",
       "  }\n",
       "  th {\n",
       "    text-align: left;\n",
       "  }\n",
       "</style><div class='table-result-container'><table class='table-result'><thead style='background-color: white'><tr><th>_c0</th><th>date</th><th>serial_number</th><th>model</th><th>capacity_bytes</th><th>failure</th><th>smart_1_raw</th><th>smart_2_raw</th><th>smart_3_raw</th><th>smart_4_raw</th><th>smart_5_raw</th><th>smart_7_raw</th><th>smart_8_raw</th><th>smart_9_raw</th><th>smart_10_raw</th><th>smart_11_raw</th><th>smart_12_raw</th><th>smart_13_raw</th><th>smart_15_raw</th><th>smart_183_raw</th><th>smart_184_raw</th><th>smart_187_raw</th><th>smart_188_raw</th><th>smart_189_raw</th><th>smart_190_raw</th><th>smart_191_raw</th><th>smart_192_raw</th><th>smart_193_raw</th><th>smart_194_raw</th><th>smart_195_raw</th><th>smart_196_raw</th><th>smart_197_raw</th><th>smart_198_raw</th><th>smart_199_raw</th><th>smart_200_raw</th><th>smart_201_raw</th><th>smart_223_raw</th><th>smart_225_raw</th><th>smart_240_raw</th><th>smart_241_raw</th><th>smart_242_raw</th><th>smart_250_raw</th><th>smart_251_raw</th><th>smart_252_raw</th><th>smart_254_raw</th><th>smart_255_raw</th></tr></thead><tbody><tr><td>0</td><td>2013-04-10</td><td>MJ0351YNG9Z0XA</td><td>Hitachi HDS5C3030ALA630</td><td>3000592982016</td><td>0</td><td>0</td><td>null</td><td>null</td><td>null</td><td>0</td><td>null</td><td>null</td><td>4031</td><td>null</td><td>null</td><td>null</td><td>null</td><td>null</td><td>null</td><td>null</td><td>null</td><td>null</td><td>null</td><td>null</td><td>null</td><td>null</td><td>null</td><td>26</td><td>null</td><td>null</td><td>0</td><td>null</td><td>null</td><td>null</td><td>null</td><td>null</td><td>null</td><td>null</td><td>null</td><td>null</td><td>null</td><td>null</td><td>null</td><td>null</td><td>null</td></tr><tr><td>1</td><td>2013-04-10</td><td>MJ0351YNG9WJSA</td><td>Hitachi HDS5C3030ALA630</td><td>3000592982016</td><td>0</td><td>0</td><td>null</td><td>null</td><td>null</td><td>2</td><td>null</td><td>null</td><td>4099</td><td>null</td><td>null</td><td>null</td><td>null</td><td>null</td><td>null</td><td>null</td><td>null</td><td>null</td><td>null</td><td>null</td><td>null</td><td>null</td><td>null</td><td>29</td><td>null</td><td>null</td><td>0</td><td>null</td><td>null</td><td>null</td><td>null</td><td>null</td><td>null</td><td>null</td><td>null</td><td>null</td><td>null</td><td>null</td><td>null</td><td>null</td><td>null</td></tr><tr><td>2</td><td>2013-04-10</td><td>MJ0351YNG9Z7LA</td><td>Hitachi HDS5C3030ALA630</td><td>3000592982016</td><td>0</td><td>0</td><td>null</td><td>null</td><td>null</td><td>0</td><td>null</td><td>null</td><td>3593</td><td>null</td><td>null</td><td>null</td><td>null</td><td>null</td><td>null</td><td>null</td><td>null</td><td>null</td><td>null</td><td>null</td><td>null</td><td>null</td><td>null</td><td>26</td><td>null</td><td>null</td><td>0</td><td>null</td><td>null</td><td>null</td><td>null</td><td>null</td><td>null</td><td>null</td><td>null</td><td>null</td><td>null</td><td>null</td><td>null</td><td>null</td><td>null</td></tr><tr><td>3</td><td>2013-04-10</td><td>MJ0351YNGAD37A</td><td>Hitachi HDS5C3030ALA630</td><td>3000592982016</td><td>0</td><td>0</td><td>null</td><td>null</td><td>null</td><td>0</td><td>null</td><td>null</td><td>2339</td><td>null</td><td>null</td><td>null</td><td>null</td><td>null</td><td>null</td><td>null</td><td>null</td><td>null</td><td>null</td><td>null</td><td>null</td><td>null</td><td>null</td><td>29</td><td>null</td><td>null</td><td>0</td><td>null</td><td>null</td><td>null</td><td>null</td><td>null</td><td>null</td><td>null</td><td>null</td><td>null</td><td>null</td><td>null</td><td>null</td><td>null</td><td>null</td></tr><tr><td>4</td><td>2013-04-10</td><td>MJ0351YNGABYAA</td><td>Hitachi HDS5C3030ALA630</td><td>3000592982016</td><td>0</td><td>0</td><td>null</td><td>null</td><td>null</td><td>0</td><td>null</td><td>null</td><td>2741</td><td>null</td><td>null</td><td>null</td><td>null</td><td>null</td><td>null</td><td>null</td><td>null</td><td>null</td><td>null</td><td>null</td><td>null</td><td>null</td><td>null</td><td>25</td><td>null</td><td>null</td><td>0</td><td>null</td><td>null</td><td>null</td><td>null</td><td>null</td><td>null</td><td>null</td><td>null</td><td>null</td><td>null</td><td>null</td><td>null</td><td>null</td><td>null</td></tr><tr><td>5</td><td>2013-04-10</td><td>MJ1311YNG7ESHA</td><td>Hitachi HDS5C3030ALA630</td><td>3000592982016</td><td>0</td><td>0</td><td>null</td><td>null</td><td>null</td><td>0</td><td>null</td><td>null</td><td>8723</td><td>null</td><td>null</td><td>null</td><td>null</td><td>null</td><td>null</td><td>null</td><td>null</td><td>null</td><td>null</td><td>null</td><td>null</td><td>null</td><td>null</td><td>20</td><td>null</td><td>null</td><td>0</td><td>null</td><td>null</td><td>null</td><td>null</td><td>null</td><td>null</td><td>null</td><td>null</td><td>null</td><td>null</td><td>null</td><td>null</td><td>null</td><td>null</td></tr><tr><td>6</td><td>2013-04-10</td><td>S2F0BE6T</td><td>ST1500DM003</td><td>1500301910016</td><td>0</td><td>23972424</td><td>null</td><td>null</td><td>null</td><td>0</td><td>null</td><td>null</td><td>4378</td><td>null</td><td>null</td><td>null</td><td>null</td><td>null</td><td>null</td><td>null</td><td>null</td><td>null</td><td>null</td><td>null</td><td>null</td><td>null</td><td>null</td><td>25</td><td>null</td><td>null</td><td>0</td><td>null</td><td>null</td><td>null</td><td>null</td><td>null</td><td>null</td><td>null</td><td>null</td><td>null</td><td>null</td><td>null</td><td>null</td><td>null</td><td>null</td></tr><tr><td>7</td><td>2013-04-10</td><td>W1F0LRXG</td><td>ST3000DM001</td><td>3000592982016</td><td>0</td><td>5538736</td><td>null</td><td>null</td><td>null</td><td>0</td><td>null</td><td>null</td><td>6297</td><td>null</td><td>null</td><td>null</td><td>null</td><td>null</td><td>null</td><td>null</td><td>null</td><td>null</td><td>null</td><td>null</td><td>null</td><td>null</td><td>null</td><td>25</td><td>null</td><td>null</td><td>8</td><td>null</td><td>null</td><td>null</td><td>null</td><td>null</td><td>null</td><td>null</td><td>null</td><td>null</td><td>null</td><td>null</td><td>null</td><td>null</td><td>null</td></tr><tr><td>8</td><td>2013-04-10</td><td>6XW099YJ</td><td>ST31500541AS</td><td>1500301910016</td><td>0</td><td>17458817</td><td>null</td><td>null</td><td>null</td><td>0</td><td>null</td><td>null</td><td>24737</td><td>null</td><td>null</td><td>null</td><td>null</td><td>null</td><td>null</td><td>null</td><td>null</td><td>null</td><td>null</td><td>null</td><td>null</td><td>null</td><td>null</td><td>24</td><td>null</td><td>null</td><td>0</td><td>null</td><td>null</td><td>null</td><td>null</td><td>null</td><td>null</td><td>null</td><td>null</td><td>null</td><td>null</td><td>null</td><td>null</td><td>null</td><td>null</td></tr><tr><td>9</td><td>2013-04-10</td><td>W1F09LPX</td><td>ST3000DM001</td><td>3000592982016</td><td>0</td><td>49517448</td><td>null</td><td>null</td><td>null</td><td>0</td><td>null</td><td>null</td><td>7484</td><td>null</td><td>null</td><td>null</td><td>null</td><td>null</td><td>null</td><td>null</td><td>null</td><td>null</td><td>null</td><td>null</td><td>null</td><td>null</td><td>null</td><td>29</td><td>null</td><td>null</td><td>0</td><td>null</td><td>null</td><td>null</td><td>null</td><td>null</td><td>null</td><td>null</td><td>null</td><td>null</td><td>null</td><td>null</td><td>null</td><td>null</td><td>null</td></tr></tbody></table></div>"
      ]
     },
     "metadata": {
      "application/vnd.databricks.v1+output": {
       "addedWidgets": {},
       "aggData": [],
       "aggError": "",
       "aggOverflow": false,
       "aggSchema": [],
       "aggSeriesLimitReached": false,
       "aggType": "",
       "arguments": {},
       "columnCustomDisplayInfos": {},
       "data": [
        [
         "0",
         "2013-04-10",
         "MJ0351YNG9Z0XA",
         "Hitachi HDS5C3030ALA630",
         "3000592982016",
         "0",
         "0",
         null,
         null,
         null,
         "0",
         null,
         null,
         "4031",
         null,
         null,
         null,
         null,
         null,
         null,
         null,
         null,
         null,
         null,
         null,
         null,
         null,
         null,
         "26",
         null,
         null,
         "0",
         null,
         null,
         null,
         null,
         null,
         null,
         null,
         null,
         null,
         null,
         null,
         null,
         null,
         null
        ],
        [
         "1",
         "2013-04-10",
         "MJ0351YNG9WJSA",
         "Hitachi HDS5C3030ALA630",
         "3000592982016",
         "0",
         "0",
         null,
         null,
         null,
         "2",
         null,
         null,
         "4099",
         null,
         null,
         null,
         null,
         null,
         null,
         null,
         null,
         null,
         null,
         null,
         null,
         null,
         null,
         "29",
         null,
         null,
         "0",
         null,
         null,
         null,
         null,
         null,
         null,
         null,
         null,
         null,
         null,
         null,
         null,
         null,
         null
        ],
        [
         "2",
         "2013-04-10",
         "MJ0351YNG9Z7LA",
         "Hitachi HDS5C3030ALA630",
         "3000592982016",
         "0",
         "0",
         null,
         null,
         null,
         "0",
         null,
         null,
         "3593",
         null,
         null,
         null,
         null,
         null,
         null,
         null,
         null,
         null,
         null,
         null,
         null,
         null,
         null,
         "26",
         null,
         null,
         "0",
         null,
         null,
         null,
         null,
         null,
         null,
         null,
         null,
         null,
         null,
         null,
         null,
         null,
         null
        ],
        [
         "3",
         "2013-04-10",
         "MJ0351YNGAD37A",
         "Hitachi HDS5C3030ALA630",
         "3000592982016",
         "0",
         "0",
         null,
         null,
         null,
         "0",
         null,
         null,
         "2339",
         null,
         null,
         null,
         null,
         null,
         null,
         null,
         null,
         null,
         null,
         null,
         null,
         null,
         null,
         "29",
         null,
         null,
         "0",
         null,
         null,
         null,
         null,
         null,
         null,
         null,
         null,
         null,
         null,
         null,
         null,
         null,
         null
        ],
        [
         "4",
         "2013-04-10",
         "MJ0351YNGABYAA",
         "Hitachi HDS5C3030ALA630",
         "3000592982016",
         "0",
         "0",
         null,
         null,
         null,
         "0",
         null,
         null,
         "2741",
         null,
         null,
         null,
         null,
         null,
         null,
         null,
         null,
         null,
         null,
         null,
         null,
         null,
         null,
         "25",
         null,
         null,
         "0",
         null,
         null,
         null,
         null,
         null,
         null,
         null,
         null,
         null,
         null,
         null,
         null,
         null,
         null
        ],
        [
         "5",
         "2013-04-10",
         "MJ1311YNG7ESHA",
         "Hitachi HDS5C3030ALA630",
         "3000592982016",
         "0",
         "0",
         null,
         null,
         null,
         "0",
         null,
         null,
         "8723",
         null,
         null,
         null,
         null,
         null,
         null,
         null,
         null,
         null,
         null,
         null,
         null,
         null,
         null,
         "20",
         null,
         null,
         "0",
         null,
         null,
         null,
         null,
         null,
         null,
         null,
         null,
         null,
         null,
         null,
         null,
         null,
         null
        ],
        [
         "6",
         "2013-04-10",
         "S2F0BE6T",
         "ST1500DM003",
         "1500301910016",
         "0",
         "23972424",
         null,
         null,
         null,
         "0",
         null,
         null,
         "4378",
         null,
         null,
         null,
         null,
         null,
         null,
         null,
         null,
         null,
         null,
         null,
         null,
         null,
         null,
         "25",
         null,
         null,
         "0",
         null,
         null,
         null,
         null,
         null,
         null,
         null,
         null,
         null,
         null,
         null,
         null,
         null,
         null
        ],
        [
         "7",
         "2013-04-10",
         "W1F0LRXG",
         "ST3000DM001",
         "3000592982016",
         "0",
         "5538736",
         null,
         null,
         null,
         "0",
         null,
         null,
         "6297",
         null,
         null,
         null,
         null,
         null,
         null,
         null,
         null,
         null,
         null,
         null,
         null,
         null,
         null,
         "25",
         null,
         null,
         "8",
         null,
         null,
         null,
         null,
         null,
         null,
         null,
         null,
         null,
         null,
         null,
         null,
         null,
         null
        ],
        [
         "8",
         "2013-04-10",
         "6XW099YJ",
         "ST31500541AS",
         "1500301910016",
         "0",
         "17458817",
         null,
         null,
         null,
         "0",
         null,
         null,
         "24737",
         null,
         null,
         null,
         null,
         null,
         null,
         null,
         null,
         null,
         null,
         null,
         null,
         null,
         null,
         "24",
         null,
         null,
         "0",
         null,
         null,
         null,
         null,
         null,
         null,
         null,
         null,
         null,
         null,
         null,
         null,
         null,
         null
        ],
        [
         "9",
         "2013-04-10",
         "W1F09LPX",
         "ST3000DM001",
         "3000592982016",
         "0",
         "49517448",
         null,
         null,
         null,
         "0",
         null,
         null,
         "7484",
         null,
         null,
         null,
         null,
         null,
         null,
         null,
         null,
         null,
         null,
         null,
         null,
         null,
         null,
         "29",
         null,
         null,
         "0",
         null,
         null,
         null,
         null,
         null,
         null,
         null,
         null,
         null,
         null,
         null,
         null,
         null,
         null
        ]
       ],
       "datasetInfos": [],
       "dbfsResultPath": null,
       "isJsonSchema": true,
       "metadata": {},
       "overflow": false,
       "plotOptions": {
        "customPlotOptions": {},
        "displayType": "table",
        "pivotAggregation": null,
        "pivotColumns": null,
        "xColumns": null,
        "yColumns": null
       },
       "removedWidgets": [],
       "schema": [
        {
         "metadata": "{}",
         "name": "_c0",
         "type": "\"string\""
        },
        {
         "metadata": "{}",
         "name": "date",
         "type": "\"string\""
        },
        {
         "metadata": "{}",
         "name": "serial_number",
         "type": "\"string\""
        },
        {
         "metadata": "{}",
         "name": "model",
         "type": "\"string\""
        },
        {
         "metadata": "{}",
         "name": "capacity_bytes",
         "type": "\"string\""
        },
        {
         "metadata": "{}",
         "name": "failure",
         "type": "\"string\""
        },
        {
         "metadata": "{}",
         "name": "smart_1_raw",
         "type": "\"string\""
        },
        {
         "metadata": "{}",
         "name": "smart_2_raw",
         "type": "\"string\""
        },
        {
         "metadata": "{}",
         "name": "smart_3_raw",
         "type": "\"string\""
        },
        {
         "metadata": "{}",
         "name": "smart_4_raw",
         "type": "\"string\""
        },
        {
         "metadata": "{}",
         "name": "smart_5_raw",
         "type": "\"string\""
        },
        {
         "metadata": "{}",
         "name": "smart_7_raw",
         "type": "\"string\""
        },
        {
         "metadata": "{}",
         "name": "smart_8_raw",
         "type": "\"string\""
        },
        {
         "metadata": "{}",
         "name": "smart_9_raw",
         "type": "\"string\""
        },
        {
         "metadata": "{}",
         "name": "smart_10_raw",
         "type": "\"string\""
        },
        {
         "metadata": "{}",
         "name": "smart_11_raw",
         "type": "\"string\""
        },
        {
         "metadata": "{}",
         "name": "smart_12_raw",
         "type": "\"string\""
        },
        {
         "metadata": "{}",
         "name": "smart_13_raw",
         "type": "\"string\""
        },
        {
         "metadata": "{}",
         "name": "smart_15_raw",
         "type": "\"string\""
        },
        {
         "metadata": "{}",
         "name": "smart_183_raw",
         "type": "\"string\""
        },
        {
         "metadata": "{}",
         "name": "smart_184_raw",
         "type": "\"string\""
        },
        {
         "metadata": "{}",
         "name": "smart_187_raw",
         "type": "\"string\""
        },
        {
         "metadata": "{}",
         "name": "smart_188_raw",
         "type": "\"string\""
        },
        {
         "metadata": "{}",
         "name": "smart_189_raw",
         "type": "\"string\""
        },
        {
         "metadata": "{}",
         "name": "smart_190_raw",
         "type": "\"string\""
        },
        {
         "metadata": "{}",
         "name": "smart_191_raw",
         "type": "\"string\""
        },
        {
         "metadata": "{}",
         "name": "smart_192_raw",
         "type": "\"string\""
        },
        {
         "metadata": "{}",
         "name": "smart_193_raw",
         "type": "\"string\""
        },
        {
         "metadata": "{}",
         "name": "smart_194_raw",
         "type": "\"string\""
        },
        {
         "metadata": "{}",
         "name": "smart_195_raw",
         "type": "\"string\""
        },
        {
         "metadata": "{}",
         "name": "smart_196_raw",
         "type": "\"string\""
        },
        {
         "metadata": "{}",
         "name": "smart_197_raw",
         "type": "\"string\""
        },
        {
         "metadata": "{}",
         "name": "smart_198_raw",
         "type": "\"string\""
        },
        {
         "metadata": "{}",
         "name": "smart_199_raw",
         "type": "\"string\""
        },
        {
         "metadata": "{}",
         "name": "smart_200_raw",
         "type": "\"string\""
        },
        {
         "metadata": "{}",
         "name": "smart_201_raw",
         "type": "\"string\""
        },
        {
         "metadata": "{}",
         "name": "smart_223_raw",
         "type": "\"string\""
        },
        {
         "metadata": "{}",
         "name": "smart_225_raw",
         "type": "\"string\""
        },
        {
         "metadata": "{}",
         "name": "smart_240_raw",
         "type": "\"string\""
        },
        {
         "metadata": "{}",
         "name": "smart_241_raw",
         "type": "\"string\""
        },
        {
         "metadata": "{}",
         "name": "smart_242_raw",
         "type": "\"string\""
        },
        {
         "metadata": "{}",
         "name": "smart_250_raw",
         "type": "\"string\""
        },
        {
         "metadata": "{}",
         "name": "smart_251_raw",
         "type": "\"string\""
        },
        {
         "metadata": "{}",
         "name": "smart_252_raw",
         "type": "\"string\""
        },
        {
         "metadata": "{}",
         "name": "smart_254_raw",
         "type": "\"string\""
        },
        {
         "metadata": "{}",
         "name": "smart_255_raw",
         "type": "\"string\""
        }
       ],
       "type": "table"
      }
     },
     "output_type": "display_data"
    },
    {
     "output_type": "stream",
     "name": "stdout",
     "output_type": "stream",
     "text": [
      "root\n |-- _c0: string (nullable = true)\n |-- date: string (nullable = true)\n |-- serial_number: string (nullable = true)\n |-- model: string (nullable = true)\n |-- capacity_bytes: string (nullable = true)\n |-- failure: string (nullable = true)\n |-- smart_1_raw: string (nullable = true)\n |-- smart_2_raw: string (nullable = true)\n |-- smart_3_raw: string (nullable = true)\n |-- smart_4_raw: string (nullable = true)\n |-- smart_5_raw: string (nullable = true)\n |-- smart_7_raw: string (nullable = true)\n |-- smart_8_raw: string (nullable = true)\n |-- smart_9_raw: string (nullable = true)\n |-- smart_10_raw: string (nullable = true)\n |-- smart_11_raw: string (nullable = true)\n |-- smart_12_raw: string (nullable = true)\n |-- smart_13_raw: string (nullable = true)\n |-- smart_15_raw: string (nullable = true)\n |-- smart_183_raw: string (nullable = true)\n |-- smart_184_raw: string (nullable = true)\n |-- smart_187_raw: string (nullable = true)\n |-- smart_188_raw: string (nullable = true)\n |-- smart_189_raw: string (nullable = true)\n |-- smart_190_raw: string (nullable = true)\n |-- smart_191_raw: string (nullable = true)\n |-- smart_192_raw: string (nullable = true)\n |-- smart_193_raw: string (nullable = true)\n |-- smart_194_raw: string (nullable = true)\n |-- smart_195_raw: string (nullable = true)\n |-- smart_196_raw: string (nullable = true)\n |-- smart_197_raw: string (nullable = true)\n |-- smart_198_raw: string (nullable = true)\n |-- smart_199_raw: string (nullable = true)\n |-- smart_200_raw: string (nullable = true)\n |-- smart_201_raw: string (nullable = true)\n |-- smart_223_raw: string (nullable = true)\n |-- smart_225_raw: string (nullable = true)\n |-- smart_240_raw: string (nullable = true)\n |-- smart_241_raw: string (nullable = true)\n |-- smart_242_raw: string (nullable = true)\n |-- smart_250_raw: string (nullable = true)\n |-- smart_251_raw: string (nullable = true)\n |-- smart_252_raw: string (nullable = true)\n |-- smart_254_raw: string (nullable = true)\n |-- smart_255_raw: string (nullable = true)\n\n"
     ]
    }
   ],
   "source": [
    "# File location and type\n",
    "file_location = \"/FileStore/tables/2013_hard_drive.csv\"\n",
    "file_type = \"csv\"\n",
    "\n",
    "# CSV options\n",
    "infer_schema = \"false\"\n",
    "first_row_is_header = \"true\"\n",
    "delimiter = \",\"\n",
    "\n",
    "# The applied options are for CSV files. For other file types, these will be ignored.\n",
    "df = spark.read.format(file_type) \\\n",
    "  .option(\"inferSchema\", infer_schema) \\\n",
    "  .option(\"header\", first_row_is_header) \\\n",
    "  .option(\"sep\", delimiter) \\\n",
    "  .load(file_location)\n",
    "\n",
    "df.limit(10).display()\n",
    "df.printSchema()\n"
   ]
  },
  {
   "cell_type": "code",
   "execution_count": 0,
   "metadata": {
    "application/vnd.databricks.v1+cell": {
     "cellMetadata": {
      "byteLimit": 2048000,
      "rowLimit": 10000
     },
     "inputWidgets": {},
     "nuid": "bd82bb99-1479-4d5c-be10-8c36df0f1d44",
     "showTitle": false,
     "title": ""
    }
   },
   "outputs": [],
   "source": [
    "# Create a view or table\n",
    "\n",
    "temp_table_name = \"2013_hard_drive_csv_temp\"\n",
    "\n",
    "df.createOrReplaceTempView(temp_table_name)"
   ]
  },
  {
   "cell_type": "code",
   "execution_count": 0,
   "metadata": {
    "application/vnd.databricks.v1+cell": {
     "cellMetadata": {
      "byteLimit": 2048000,
      "implicitDf": true,
      "rowLimit": 10000
     },
     "inputWidgets": {},
     "nuid": "b5f66379-6f7f-42ec-8e82-d0e0926a1721",
     "showTitle": false,
     "title": ""
    }
   },
   "outputs": [
    {
     "output_type": "display_data",
     "data": {
      "text/html": [
       "<style scoped>\n",
       "  .table-result-container {\n",
       "    max-height: 300px;\n",
       "    overflow: auto;\n",
       "  }\n",
       "  table, th, td {\n",
       "    border: 1px solid black;\n",
       "    border-collapse: collapse;\n",
       "  }\n",
       "  th, td {\n",
       "    padding: 5px;\n",
       "  }\n",
       "  th {\n",
       "    text-align: left;\n",
       "  }\n",
       "</style><div class='table-result-container'><table class='table-result'><thead style='background-color: white'><tr><th>_c0</th><th>date</th><th>serial_number</th><th>model</th><th>capacity_bytes</th><th>failure</th><th>smart_1_raw</th><th>smart_2_raw</th><th>smart_3_raw</th><th>smart_4_raw</th><th>smart_5_raw</th><th>smart_7_raw</th><th>smart_8_raw</th><th>smart_9_raw</th><th>smart_10_raw</th><th>smart_11_raw</th><th>smart_12_raw</th><th>smart_13_raw</th><th>smart_15_raw</th><th>smart_183_raw</th><th>smart_184_raw</th><th>smart_187_raw</th><th>smart_188_raw</th><th>smart_189_raw</th><th>smart_190_raw</th><th>smart_191_raw</th><th>smart_192_raw</th><th>smart_193_raw</th><th>smart_194_raw</th><th>smart_195_raw</th><th>smart_196_raw</th><th>smart_197_raw</th><th>smart_198_raw</th><th>smart_199_raw</th><th>smart_200_raw</th><th>smart_201_raw</th><th>smart_223_raw</th><th>smart_225_raw</th><th>smart_240_raw</th><th>smart_241_raw</th><th>smart_242_raw</th><th>smart_250_raw</th><th>smart_251_raw</th><th>smart_252_raw</th><th>smart_254_raw</th><th>smart_255_raw</th></tr></thead><tbody><tr><td>0</td><td>2013-04-10</td><td>MJ0351YNG9Z0XA</td><td>Hitachi HDS5C3030ALA630</td><td>3000592982016</td><td>0</td><td>0</td><td>null</td><td>null</td><td>null</td><td>0</td><td>null</td><td>null</td><td>4031</td><td>null</td><td>null</td><td>null</td><td>null</td><td>null</td><td>null</td><td>null</td><td>null</td><td>null</td><td>null</td><td>null</td><td>null</td><td>null</td><td>null</td><td>26</td><td>null</td><td>null</td><td>0</td><td>null</td><td>null</td><td>null</td><td>null</td><td>null</td><td>null</td><td>null</td><td>null</td><td>null</td><td>null</td><td>null</td><td>null</td><td>null</td><td>null</td></tr><tr><td>1</td><td>2013-04-10</td><td>MJ0351YNG9WJSA</td><td>Hitachi HDS5C3030ALA630</td><td>3000592982016</td><td>0</td><td>0</td><td>null</td><td>null</td><td>null</td><td>2</td><td>null</td><td>null</td><td>4099</td><td>null</td><td>null</td><td>null</td><td>null</td><td>null</td><td>null</td><td>null</td><td>null</td><td>null</td><td>null</td><td>null</td><td>null</td><td>null</td><td>null</td><td>29</td><td>null</td><td>null</td><td>0</td><td>null</td><td>null</td><td>null</td><td>null</td><td>null</td><td>null</td><td>null</td><td>null</td><td>null</td><td>null</td><td>null</td><td>null</td><td>null</td><td>null</td></tr><tr><td>2</td><td>2013-04-10</td><td>MJ0351YNG9Z7LA</td><td>Hitachi HDS5C3030ALA630</td><td>3000592982016</td><td>0</td><td>0</td><td>null</td><td>null</td><td>null</td><td>0</td><td>null</td><td>null</td><td>3593</td><td>null</td><td>null</td><td>null</td><td>null</td><td>null</td><td>null</td><td>null</td><td>null</td><td>null</td><td>null</td><td>null</td><td>null</td><td>null</td><td>null</td><td>26</td><td>null</td><td>null</td><td>0</td><td>null</td><td>null</td><td>null</td><td>null</td><td>null</td><td>null</td><td>null</td><td>null</td><td>null</td><td>null</td><td>null</td><td>null</td><td>null</td><td>null</td></tr><tr><td>3</td><td>2013-04-10</td><td>MJ0351YNGAD37A</td><td>Hitachi HDS5C3030ALA630</td><td>3000592982016</td><td>0</td><td>0</td><td>null</td><td>null</td><td>null</td><td>0</td><td>null</td><td>null</td><td>2339</td><td>null</td><td>null</td><td>null</td><td>null</td><td>null</td><td>null</td><td>null</td><td>null</td><td>null</td><td>null</td><td>null</td><td>null</td><td>null</td><td>null</td><td>29</td><td>null</td><td>null</td><td>0</td><td>null</td><td>null</td><td>null</td><td>null</td><td>null</td><td>null</td><td>null</td><td>null</td><td>null</td><td>null</td><td>null</td><td>null</td><td>null</td><td>null</td></tr><tr><td>4</td><td>2013-04-10</td><td>MJ0351YNGABYAA</td><td>Hitachi HDS5C3030ALA630</td><td>3000592982016</td><td>0</td><td>0</td><td>null</td><td>null</td><td>null</td><td>0</td><td>null</td><td>null</td><td>2741</td><td>null</td><td>null</td><td>null</td><td>null</td><td>null</td><td>null</td><td>null</td><td>null</td><td>null</td><td>null</td><td>null</td><td>null</td><td>null</td><td>null</td><td>25</td><td>null</td><td>null</td><td>0</td><td>null</td><td>null</td><td>null</td><td>null</td><td>null</td><td>null</td><td>null</td><td>null</td><td>null</td><td>null</td><td>null</td><td>null</td><td>null</td><td>null</td></tr><tr><td>5</td><td>2013-04-10</td><td>MJ1311YNG7ESHA</td><td>Hitachi HDS5C3030ALA630</td><td>3000592982016</td><td>0</td><td>0</td><td>null</td><td>null</td><td>null</td><td>0</td><td>null</td><td>null</td><td>8723</td><td>null</td><td>null</td><td>null</td><td>null</td><td>null</td><td>null</td><td>null</td><td>null</td><td>null</td><td>null</td><td>null</td><td>null</td><td>null</td><td>null</td><td>20</td><td>null</td><td>null</td><td>0</td><td>null</td><td>null</td><td>null</td><td>null</td><td>null</td><td>null</td><td>null</td><td>null</td><td>null</td><td>null</td><td>null</td><td>null</td><td>null</td><td>null</td></tr><tr><td>6</td><td>2013-04-10</td><td>S2F0BE6T</td><td>ST1500DM003</td><td>1500301910016</td><td>0</td><td>23972424</td><td>null</td><td>null</td><td>null</td><td>0</td><td>null</td><td>null</td><td>4378</td><td>null</td><td>null</td><td>null</td><td>null</td><td>null</td><td>null</td><td>null</td><td>null</td><td>null</td><td>null</td><td>null</td><td>null</td><td>null</td><td>null</td><td>25</td><td>null</td><td>null</td><td>0</td><td>null</td><td>null</td><td>null</td><td>null</td><td>null</td><td>null</td><td>null</td><td>null</td><td>null</td><td>null</td><td>null</td><td>null</td><td>null</td><td>null</td></tr><tr><td>7</td><td>2013-04-10</td><td>W1F0LRXG</td><td>ST3000DM001</td><td>3000592982016</td><td>0</td><td>5538736</td><td>null</td><td>null</td><td>null</td><td>0</td><td>null</td><td>null</td><td>6297</td><td>null</td><td>null</td><td>null</td><td>null</td><td>null</td><td>null</td><td>null</td><td>null</td><td>null</td><td>null</td><td>null</td><td>null</td><td>null</td><td>null</td><td>25</td><td>null</td><td>null</td><td>8</td><td>null</td><td>null</td><td>null</td><td>null</td><td>null</td><td>null</td><td>null</td><td>null</td><td>null</td><td>null</td><td>null</td><td>null</td><td>null</td><td>null</td></tr><tr><td>8</td><td>2013-04-10</td><td>6XW099YJ</td><td>ST31500541AS</td><td>1500301910016</td><td>0</td><td>17458817</td><td>null</td><td>null</td><td>null</td><td>0</td><td>null</td><td>null</td><td>24737</td><td>null</td><td>null</td><td>null</td><td>null</td><td>null</td><td>null</td><td>null</td><td>null</td><td>null</td><td>null</td><td>null</td><td>null</td><td>null</td><td>null</td><td>24</td><td>null</td><td>null</td><td>0</td><td>null</td><td>null</td><td>null</td><td>null</td><td>null</td><td>null</td><td>null</td><td>null</td><td>null</td><td>null</td><td>null</td><td>null</td><td>null</td><td>null</td></tr><tr><td>9</td><td>2013-04-10</td><td>W1F09LPX</td><td>ST3000DM001</td><td>3000592982016</td><td>0</td><td>49517448</td><td>null</td><td>null</td><td>null</td><td>0</td><td>null</td><td>null</td><td>7484</td><td>null</td><td>null</td><td>null</td><td>null</td><td>null</td><td>null</td><td>null</td><td>null</td><td>null</td><td>null</td><td>null</td><td>null</td><td>null</td><td>null</td><td>29</td><td>null</td><td>null</td><td>0</td><td>null</td><td>null</td><td>null</td><td>null</td><td>null</td><td>null</td><td>null</td><td>null</td><td>null</td><td>null</td><td>null</td><td>null</td><td>null</td><td>null</td></tr></tbody></table></div>"
      ]
     },
     "metadata": {
      "application/vnd.databricks.v1+output": {
       "addedWidgets": {},
       "aggData": [],
       "aggError": "",
       "aggOverflow": false,
       "aggSchema": [],
       "aggSeriesLimitReached": false,
       "aggType": "",
       "arguments": {},
       "columnCustomDisplayInfos": {},
       "data": [
        [
         "0",
         "2013-04-10",
         "MJ0351YNG9Z0XA",
         "Hitachi HDS5C3030ALA630",
         "3000592982016",
         "0",
         "0",
         null,
         null,
         null,
         "0",
         null,
         null,
         "4031",
         null,
         null,
         null,
         null,
         null,
         null,
         null,
         null,
         null,
         null,
         null,
         null,
         null,
         null,
         "26",
         null,
         null,
         "0",
         null,
         null,
         null,
         null,
         null,
         null,
         null,
         null,
         null,
         null,
         null,
         null,
         null,
         null
        ],
        [
         "1",
         "2013-04-10",
         "MJ0351YNG9WJSA",
         "Hitachi HDS5C3030ALA630",
         "3000592982016",
         "0",
         "0",
         null,
         null,
         null,
         "2",
         null,
         null,
         "4099",
         null,
         null,
         null,
         null,
         null,
         null,
         null,
         null,
         null,
         null,
         null,
         null,
         null,
         null,
         "29",
         null,
         null,
         "0",
         null,
         null,
         null,
         null,
         null,
         null,
         null,
         null,
         null,
         null,
         null,
         null,
         null,
         null
        ],
        [
         "2",
         "2013-04-10",
         "MJ0351YNG9Z7LA",
         "Hitachi HDS5C3030ALA630",
         "3000592982016",
         "0",
         "0",
         null,
         null,
         null,
         "0",
         null,
         null,
         "3593",
         null,
         null,
         null,
         null,
         null,
         null,
         null,
         null,
         null,
         null,
         null,
         null,
         null,
         null,
         "26",
         null,
         null,
         "0",
         null,
         null,
         null,
         null,
         null,
         null,
         null,
         null,
         null,
         null,
         null,
         null,
         null,
         null
        ],
        [
         "3",
         "2013-04-10",
         "MJ0351YNGAD37A",
         "Hitachi HDS5C3030ALA630",
         "3000592982016",
         "0",
         "0",
         null,
         null,
         null,
         "0",
         null,
         null,
         "2339",
         null,
         null,
         null,
         null,
         null,
         null,
         null,
         null,
         null,
         null,
         null,
         null,
         null,
         null,
         "29",
         null,
         null,
         "0",
         null,
         null,
         null,
         null,
         null,
         null,
         null,
         null,
         null,
         null,
         null,
         null,
         null,
         null
        ],
        [
         "4",
         "2013-04-10",
         "MJ0351YNGABYAA",
         "Hitachi HDS5C3030ALA630",
         "3000592982016",
         "0",
         "0",
         null,
         null,
         null,
         "0",
         null,
         null,
         "2741",
         null,
         null,
         null,
         null,
         null,
         null,
         null,
         null,
         null,
         null,
         null,
         null,
         null,
         null,
         "25",
         null,
         null,
         "0",
         null,
         null,
         null,
         null,
         null,
         null,
         null,
         null,
         null,
         null,
         null,
         null,
         null,
         null
        ],
        [
         "5",
         "2013-04-10",
         "MJ1311YNG7ESHA",
         "Hitachi HDS5C3030ALA630",
         "3000592982016",
         "0",
         "0",
         null,
         null,
         null,
         "0",
         null,
         null,
         "8723",
         null,
         null,
         null,
         null,
         null,
         null,
         null,
         null,
         null,
         null,
         null,
         null,
         null,
         null,
         "20",
         null,
         null,
         "0",
         null,
         null,
         null,
         null,
         null,
         null,
         null,
         null,
         null,
         null,
         null,
         null,
         null,
         null
        ],
        [
         "6",
         "2013-04-10",
         "S2F0BE6T",
         "ST1500DM003",
         "1500301910016",
         "0",
         "23972424",
         null,
         null,
         null,
         "0",
         null,
         null,
         "4378",
         null,
         null,
         null,
         null,
         null,
         null,
         null,
         null,
         null,
         null,
         null,
         null,
         null,
         null,
         "25",
         null,
         null,
         "0",
         null,
         null,
         null,
         null,
         null,
         null,
         null,
         null,
         null,
         null,
         null,
         null,
         null,
         null
        ],
        [
         "7",
         "2013-04-10",
         "W1F0LRXG",
         "ST3000DM001",
         "3000592982016",
         "0",
         "5538736",
         null,
         null,
         null,
         "0",
         null,
         null,
         "6297",
         null,
         null,
         null,
         null,
         null,
         null,
         null,
         null,
         null,
         null,
         null,
         null,
         null,
         null,
         "25",
         null,
         null,
         "8",
         null,
         null,
         null,
         null,
         null,
         null,
         null,
         null,
         null,
         null,
         null,
         null,
         null,
         null
        ],
        [
         "8",
         "2013-04-10",
         "6XW099YJ",
         "ST31500541AS",
         "1500301910016",
         "0",
         "17458817",
         null,
         null,
         null,
         "0",
         null,
         null,
         "24737",
         null,
         null,
         null,
         null,
         null,
         null,
         null,
         null,
         null,
         null,
         null,
         null,
         null,
         null,
         "24",
         null,
         null,
         "0",
         null,
         null,
         null,
         null,
         null,
         null,
         null,
         null,
         null,
         null,
         null,
         null,
         null,
         null
        ],
        [
         "9",
         "2013-04-10",
         "W1F09LPX",
         "ST3000DM001",
         "3000592982016",
         "0",
         "49517448",
         null,
         null,
         null,
         "0",
         null,
         null,
         "7484",
         null,
         null,
         null,
         null,
         null,
         null,
         null,
         null,
         null,
         null,
         null,
         null,
         null,
         null,
         "29",
         null,
         null,
         "0",
         null,
         null,
         null,
         null,
         null,
         null,
         null,
         null,
         null,
         null,
         null,
         null,
         null,
         null
        ]
       ],
       "datasetInfos": [],
       "dbfsResultPath": null,
       "isJsonSchema": true,
       "metadata": {
        "dataframeName": "_sqldf",
        "executionCount": 3
       },
       "overflow": false,
       "plotOptions": {
        "customPlotOptions": {},
        "displayType": "table",
        "pivotAggregation": null,
        "pivotColumns": null,
        "xColumns": null,
        "yColumns": null
       },
       "removedWidgets": [],
       "schema": [
        {
         "metadata": "{}",
         "name": "_c0",
         "type": "\"string\""
        },
        {
         "metadata": "{}",
         "name": "date",
         "type": "\"string\""
        },
        {
         "metadata": "{}",
         "name": "serial_number",
         "type": "\"string\""
        },
        {
         "metadata": "{}",
         "name": "model",
         "type": "\"string\""
        },
        {
         "metadata": "{}",
         "name": "capacity_bytes",
         "type": "\"string\""
        },
        {
         "metadata": "{}",
         "name": "failure",
         "type": "\"string\""
        },
        {
         "metadata": "{}",
         "name": "smart_1_raw",
         "type": "\"string\""
        },
        {
         "metadata": "{}",
         "name": "smart_2_raw",
         "type": "\"string\""
        },
        {
         "metadata": "{}",
         "name": "smart_3_raw",
         "type": "\"string\""
        },
        {
         "metadata": "{}",
         "name": "smart_4_raw",
         "type": "\"string\""
        },
        {
         "metadata": "{}",
         "name": "smart_5_raw",
         "type": "\"string\""
        },
        {
         "metadata": "{}",
         "name": "smart_7_raw",
         "type": "\"string\""
        },
        {
         "metadata": "{}",
         "name": "smart_8_raw",
         "type": "\"string\""
        },
        {
         "metadata": "{}",
         "name": "smart_9_raw",
         "type": "\"string\""
        },
        {
         "metadata": "{}",
         "name": "smart_10_raw",
         "type": "\"string\""
        },
        {
         "metadata": "{}",
         "name": "smart_11_raw",
         "type": "\"string\""
        },
        {
         "metadata": "{}",
         "name": "smart_12_raw",
         "type": "\"string\""
        },
        {
         "metadata": "{}",
         "name": "smart_13_raw",
         "type": "\"string\""
        },
        {
         "metadata": "{}",
         "name": "smart_15_raw",
         "type": "\"string\""
        },
        {
         "metadata": "{}",
         "name": "smart_183_raw",
         "type": "\"string\""
        },
        {
         "metadata": "{}",
         "name": "smart_184_raw",
         "type": "\"string\""
        },
        {
         "metadata": "{}",
         "name": "smart_187_raw",
         "type": "\"string\""
        },
        {
         "metadata": "{}",
         "name": "smart_188_raw",
         "type": "\"string\""
        },
        {
         "metadata": "{}",
         "name": "smart_189_raw",
         "type": "\"string\""
        },
        {
         "metadata": "{}",
         "name": "smart_190_raw",
         "type": "\"string\""
        },
        {
         "metadata": "{}",
         "name": "smart_191_raw",
         "type": "\"string\""
        },
        {
         "metadata": "{}",
         "name": "smart_192_raw",
         "type": "\"string\""
        },
        {
         "metadata": "{}",
         "name": "smart_193_raw",
         "type": "\"string\""
        },
        {
         "metadata": "{}",
         "name": "smart_194_raw",
         "type": "\"string\""
        },
        {
         "metadata": "{}",
         "name": "smart_195_raw",
         "type": "\"string\""
        },
        {
         "metadata": "{}",
         "name": "smart_196_raw",
         "type": "\"string\""
        },
        {
         "metadata": "{}",
         "name": "smart_197_raw",
         "type": "\"string\""
        },
        {
         "metadata": "{}",
         "name": "smart_198_raw",
         "type": "\"string\""
        },
        {
         "metadata": "{}",
         "name": "smart_199_raw",
         "type": "\"string\""
        },
        {
         "metadata": "{}",
         "name": "smart_200_raw",
         "type": "\"string\""
        },
        {
         "metadata": "{}",
         "name": "smart_201_raw",
         "type": "\"string\""
        },
        {
         "metadata": "{}",
         "name": "smart_223_raw",
         "type": "\"string\""
        },
        {
         "metadata": "{}",
         "name": "smart_225_raw",
         "type": "\"string\""
        },
        {
         "metadata": "{}",
         "name": "smart_240_raw",
         "type": "\"string\""
        },
        {
         "metadata": "{}",
         "name": "smart_241_raw",
         "type": "\"string\""
        },
        {
         "metadata": "{}",
         "name": "smart_242_raw",
         "type": "\"string\""
        },
        {
         "metadata": "{}",
         "name": "smart_250_raw",
         "type": "\"string\""
        },
        {
         "metadata": "{}",
         "name": "smart_251_raw",
         "type": "\"string\""
        },
        {
         "metadata": "{}",
         "name": "smart_252_raw",
         "type": "\"string\""
        },
        {
         "metadata": "{}",
         "name": "smart_254_raw",
         "type": "\"string\""
        },
        {
         "metadata": "{}",
         "name": "smart_255_raw",
         "type": "\"string\""
        }
       ],
       "type": "table"
      }
     },
     "output_type": "display_data"
    }
   ],
   "source": [
    "%sql\n",
    "\n",
    "/* Query the created temp table in a SQL cell */\n",
    "\n",
    "select * from `2013_hard_drive_csv_temp` LIMIT 10"
   ]
  },
  {
   "cell_type": "code",
   "execution_count": 0,
   "metadata": {
    "application/vnd.databricks.v1+cell": {
     "cellMetadata": {
      "byteLimit": 2048000,
      "rowLimit": 10000
     },
     "inputWidgets": {},
     "nuid": "295f323a-a97b-4886-bdc2-4aa92f3dba18",
     "showTitle": false,
     "title": ""
    }
   },
   "outputs": [
    {
     "output_type": "execute_result",
     "data": {
      "text/plain": [
       "DataFrame[]"
      ]
     },
     "execution_count": 4,
     "metadata": {},
     "output_type": "execute_result"
    }
   ],
   "source": [
    "#spark.sql(\"DROP DATABASE BRONZE CASCADE\")\n",
    "spark.sql(\"CREATE DATABASE IF NOT EXISTS BRONZE\")\n"
   ]
  },
  {
   "cell_type": "code",
   "execution_count": 0,
   "metadata": {
    "application/vnd.databricks.v1+cell": {
     "cellMetadata": {
      "byteLimit": 2048000,
      "rowLimit": 10000
     },
     "inputWidgets": {},
     "nuid": "db9631f6-bb4a-42ca-8a3c-0d48af932331",
     "showTitle": false,
     "title": ""
    }
   },
   "outputs": [],
   "source": [
    "# With this registered as a temp view, it will only be available to this particular notebook. If you'd like other users to be able to query this table, you can also create a table from the DataFrame.\n",
    "# Once saved, this table will persist across cluster restarts as well as allow various users across different notebooks to query this data.\n",
    "# To do so, choose your table name and uncomment the bottom line.\n",
    "spark.conf.set(\"spark.sql.legacy.allowCreatingManagedTableUsingNonemptyLocation\",\"true\")\n",
    "\n",
    "permanent_table_name = \"BRONZE.2013_hard_drive_csv_parquet\"\n",
    "\n",
    "df.write.mode(\"overwrite\").format(\"parquet\").saveAsTable(permanent_table_name)"
   ]
  }
 ],
 "metadata": {
  "application/vnd.databricks.v1+notebook": {
   "dashboards": [],
   "environmentMetadata": null,
   "language": "python",
   "notebookMetadata": {
    "mostRecentlyExecutedCommandWithImplicitDF": {
     "commandId": 230243341723181,
     "dataframes": [
      "_sqldf"
     ]
    },
    "pythonIndentUnit": 4
   },
   "notebookName": "BRONZE",
   "widgets": {}
  }
 },
 "nbformat": 4,
 "nbformat_minor": 0
}
